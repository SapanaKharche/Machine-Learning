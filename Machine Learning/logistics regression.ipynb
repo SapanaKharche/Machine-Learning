{
 "cells": [
  {
   "cell_type": "code",
   "execution_count": 1,
   "id": "dfa57e81",
   "metadata": {},
   "outputs": [],
   "source": [
    "import numpy as np\n",
    "import pandas as pd\n",
    "import matplotlib.pyplot as plt\n",
    "import seaborn as sns\n",
    "sns.set_style('whitegrid')"
   ]
  },
  {
   "cell_type": "code",
   "execution_count": 2,
   "id": "6bbfec4d",
   "metadata": {},
   "outputs": [],
   "source": [
    "dataset = pd.read_csv('binary_log.csv')"
   ]
  },
  {
   "cell_type": "code",
   "execution_count": 3,
   "id": "a8b52727",
   "metadata": {},
   "outputs": [
    {
     "data": {
      "text/html": [
       "<div>\n",
       "<style scoped>\n",
       "    .dataframe tbody tr th:only-of-type {\n",
       "        vertical-align: middle;\n",
       "    }\n",
       "\n",
       "    .dataframe tbody tr th {\n",
       "        vertical-align: top;\n",
       "    }\n",
       "\n",
       "    .dataframe thead th {\n",
       "        text-align: right;\n",
       "    }\n",
       "</style>\n",
       "<table border=\"1\" class=\"dataframe\">\n",
       "  <thead>\n",
       "    <tr style=\"text-align: right;\">\n",
       "      <th></th>\n",
       "      <th>SAT</th>\n",
       "      <th>Admitted</th>\n",
       "      <th>Gender</th>\n",
       "    </tr>\n",
       "  </thead>\n",
       "  <tbody>\n",
       "    <tr>\n",
       "      <th>0</th>\n",
       "      <td>1363</td>\n",
       "      <td>No</td>\n",
       "      <td>Male</td>\n",
       "    </tr>\n",
       "    <tr>\n",
       "      <th>1</th>\n",
       "      <td>1792</td>\n",
       "      <td>Yes</td>\n",
       "      <td>Female</td>\n",
       "    </tr>\n",
       "    <tr>\n",
       "      <th>2</th>\n",
       "      <td>1954</td>\n",
       "      <td>Yes</td>\n",
       "      <td>Female</td>\n",
       "    </tr>\n",
       "    <tr>\n",
       "      <th>3</th>\n",
       "      <td>1653</td>\n",
       "      <td>No</td>\n",
       "      <td>Male</td>\n",
       "    </tr>\n",
       "    <tr>\n",
       "      <th>4</th>\n",
       "      <td>1593</td>\n",
       "      <td>No</td>\n",
       "      <td>Male</td>\n",
       "    </tr>\n",
       "    <tr>\n",
       "      <th>...</th>\n",
       "      <td>...</td>\n",
       "      <td>...</td>\n",
       "      <td>...</td>\n",
       "    </tr>\n",
       "    <tr>\n",
       "      <th>163</th>\n",
       "      <td>1722</td>\n",
       "      <td>Yes</td>\n",
       "      <td>Female</td>\n",
       "    </tr>\n",
       "    <tr>\n",
       "      <th>164</th>\n",
       "      <td>1750</td>\n",
       "      <td>Yes</td>\n",
       "      <td>Male</td>\n",
       "    </tr>\n",
       "    <tr>\n",
       "      <th>165</th>\n",
       "      <td>1555</td>\n",
       "      <td>No</td>\n",
       "      <td>Male</td>\n",
       "    </tr>\n",
       "    <tr>\n",
       "      <th>166</th>\n",
       "      <td>1524</td>\n",
       "      <td>No</td>\n",
       "      <td>Male</td>\n",
       "    </tr>\n",
       "    <tr>\n",
       "      <th>167</th>\n",
       "      <td>1461</td>\n",
       "      <td>No</td>\n",
       "      <td>Male</td>\n",
       "    </tr>\n",
       "  </tbody>\n",
       "</table>\n",
       "<p>168 rows × 3 columns</p>\n",
       "</div>"
      ],
      "text/plain": [
       "      SAT Admitted  Gender\n",
       "0    1363       No    Male\n",
       "1    1792      Yes  Female\n",
       "2    1954      Yes  Female\n",
       "3    1653       No    Male\n",
       "4    1593       No    Male\n",
       "..    ...      ...     ...\n",
       "163  1722      Yes  Female\n",
       "164  1750      Yes    Male\n",
       "165  1555       No    Male\n",
       "166  1524       No    Male\n",
       "167  1461       No    Male\n",
       "\n",
       "[168 rows x 3 columns]"
      ]
     },
     "execution_count": 3,
     "metadata": {},
     "output_type": "execute_result"
    }
   ],
   "source": [
    "dataset"
   ]
  },
  {
   "cell_type": "code",
   "execution_count": 4,
   "id": "24cb9ab0",
   "metadata": {},
   "outputs": [],
   "source": [
    "dataset['Admitted'] = dataset['Admitted'].map({'Yes':1,'No':0})\n"
   ]
  },
  {
   "cell_type": "code",
   "execution_count": 5,
   "id": "d732fbf4",
   "metadata": {},
   "outputs": [
    {
     "data": {
      "text/html": [
       "<div>\n",
       "<style scoped>\n",
       "    .dataframe tbody tr th:only-of-type {\n",
       "        vertical-align: middle;\n",
       "    }\n",
       "\n",
       "    .dataframe tbody tr th {\n",
       "        vertical-align: top;\n",
       "    }\n",
       "\n",
       "    .dataframe thead th {\n",
       "        text-align: right;\n",
       "    }\n",
       "</style>\n",
       "<table border=\"1\" class=\"dataframe\">\n",
       "  <thead>\n",
       "    <tr style=\"text-align: right;\">\n",
       "      <th></th>\n",
       "      <th>SAT</th>\n",
       "      <th>Admitted</th>\n",
       "      <th>Gender</th>\n",
       "    </tr>\n",
       "  </thead>\n",
       "  <tbody>\n",
       "    <tr>\n",
       "      <th>0</th>\n",
       "      <td>1363</td>\n",
       "      <td>0</td>\n",
       "      <td>Male</td>\n",
       "    </tr>\n",
       "    <tr>\n",
       "      <th>1</th>\n",
       "      <td>1792</td>\n",
       "      <td>1</td>\n",
       "      <td>Female</td>\n",
       "    </tr>\n",
       "    <tr>\n",
       "      <th>2</th>\n",
       "      <td>1954</td>\n",
       "      <td>1</td>\n",
       "      <td>Female</td>\n",
       "    </tr>\n",
       "    <tr>\n",
       "      <th>3</th>\n",
       "      <td>1653</td>\n",
       "      <td>0</td>\n",
       "      <td>Male</td>\n",
       "    </tr>\n",
       "    <tr>\n",
       "      <th>4</th>\n",
       "      <td>1593</td>\n",
       "      <td>0</td>\n",
       "      <td>Male</td>\n",
       "    </tr>\n",
       "    <tr>\n",
       "      <th>...</th>\n",
       "      <td>...</td>\n",
       "      <td>...</td>\n",
       "      <td>...</td>\n",
       "    </tr>\n",
       "    <tr>\n",
       "      <th>163</th>\n",
       "      <td>1722</td>\n",
       "      <td>1</td>\n",
       "      <td>Female</td>\n",
       "    </tr>\n",
       "    <tr>\n",
       "      <th>164</th>\n",
       "      <td>1750</td>\n",
       "      <td>1</td>\n",
       "      <td>Male</td>\n",
       "    </tr>\n",
       "    <tr>\n",
       "      <th>165</th>\n",
       "      <td>1555</td>\n",
       "      <td>0</td>\n",
       "      <td>Male</td>\n",
       "    </tr>\n",
       "    <tr>\n",
       "      <th>166</th>\n",
       "      <td>1524</td>\n",
       "      <td>0</td>\n",
       "      <td>Male</td>\n",
       "    </tr>\n",
       "    <tr>\n",
       "      <th>167</th>\n",
       "      <td>1461</td>\n",
       "      <td>0</td>\n",
       "      <td>Male</td>\n",
       "    </tr>\n",
       "  </tbody>\n",
       "</table>\n",
       "<p>168 rows × 3 columns</p>\n",
       "</div>"
      ],
      "text/plain": [
       "      SAT  Admitted  Gender\n",
       "0    1363         0    Male\n",
       "1    1792         1  Female\n",
       "2    1954         1  Female\n",
       "3    1653         0    Male\n",
       "4    1593         0    Male\n",
       "..    ...       ...     ...\n",
       "163  1722         1  Female\n",
       "164  1750         1    Male\n",
       "165  1555         0    Male\n",
       "166  1524         0    Male\n",
       "167  1461         0    Male\n",
       "\n",
       "[168 rows x 3 columns]"
      ]
     },
     "execution_count": 5,
     "metadata": {},
     "output_type": "execute_result"
    }
   ],
   "source": [
    "dataset"
   ]
  },
  {
   "cell_type": "code",
   "execution_count": 6,
   "id": "4f986e2a",
   "metadata": {},
   "outputs": [],
   "source": [
    "X = dataset.iloc[:,0].values\n"
   ]
  },
  {
   "cell_type": "code",
   "execution_count": 7,
   "id": "05201111",
   "metadata": {},
   "outputs": [],
   "source": [
    "X = X.reshape(168,1)\n"
   ]
  },
  {
   "cell_type": "code",
   "execution_count": 8,
   "id": "2a878c39",
   "metadata": {},
   "outputs": [
    {
     "data": {
      "text/plain": [
       "(168, 1)"
      ]
     },
     "execution_count": 8,
     "metadata": {},
     "output_type": "execute_result"
    }
   ],
   "source": [
    "X.shape\n"
   ]
  },
  {
   "cell_type": "code",
   "execution_count": 9,
   "id": "6a6365e0",
   "metadata": {},
   "outputs": [
    {
     "data": {
      "text/plain": [
       "array([[1363],\n",
       "       [1792],\n",
       "       [1954],\n",
       "       [1653],\n",
       "       [1593],\n",
       "       [1755],\n",
       "       [1775],\n",
       "       [1887],\n",
       "       [1893],\n",
       "       [1580],\n",
       "       [1857],\n",
       "       [1880],\n",
       "       [1664],\n",
       "       [1364],\n",
       "       [1693],\n",
       "       [1850],\n",
       "       [1633],\n",
       "       [1634],\n",
       "       [1636],\n",
       "       [1855],\n",
       "       [1987],\n",
       "       [1997],\n",
       "       [1422],\n",
       "       [1508],\n",
       "       [1720],\n",
       "       [1879],\n",
       "       [1634],\n",
       "       [1802],\n",
       "       [1849],\n",
       "       [1764],\n",
       "       [1460],\n",
       "       [1675],\n",
       "       [1656],\n",
       "       [2020],\n",
       "       [1850],\n",
       "       [1865],\n",
       "       [1664],\n",
       "       [1872],\n",
       "       [1654],\n",
       "       [1393],\n",
       "       [1587],\n",
       "       [1631],\n",
       "       [1931],\n",
       "       [1370],\n",
       "       [1810],\n",
       "       [1414],\n",
       "       [1761],\n",
       "       [1477],\n",
       "       [1486],\n",
       "       [1561],\n",
       "       [1549],\n",
       "       [2050],\n",
       "       [1697],\n",
       "       [1543],\n",
       "       [1934],\n",
       "       [1385],\n",
       "       [1670],\n",
       "       [1735],\n",
       "       [1634],\n",
       "       [1777],\n",
       "       [1550],\n",
       "       [1715],\n",
       "       [1925],\n",
       "       [1842],\n",
       "       [1786],\n",
       "       [1435],\n",
       "       [1387],\n",
       "       [1521],\n",
       "       [1975],\n",
       "       [1435],\n",
       "       [1714],\n",
       "       [1634],\n",
       "       [1464],\n",
       "       [1794],\n",
       "       [1855],\n",
       "       [1953],\n",
       "       [1469],\n",
       "       [1663],\n",
       "       [1907],\n",
       "       [1990],\n",
       "       [1542],\n",
       "       [1808],\n",
       "       [1966],\n",
       "       [1679],\n",
       "       [2021],\n",
       "       [2015],\n",
       "       [1473],\n",
       "       [1979],\n",
       "       [1787],\n",
       "       [1687],\n",
       "       [1674],\n",
       "       [1478],\n",
       "       [1735],\n",
       "       [1720],\n",
       "       [1494],\n",
       "       [1964],\n",
       "       [1843],\n",
       "       [1550],\n",
       "       [1764],\n",
       "       [1712],\n",
       "       [1775],\n",
       "       [1531],\n",
       "       [1781],\n",
       "       [1579],\n",
       "       [1526],\n",
       "       [1778],\n",
       "       [1769],\n",
       "       [1824],\n",
       "       [1481],\n",
       "       [1464],\n",
       "       [1591],\n",
       "       [1666],\n",
       "       [1455],\n",
       "       [1934],\n",
       "       [1625],\n",
       "       [1334],\n",
       "       [1721],\n",
       "       [1475],\n",
       "       [1662],\n",
       "       [1861],\n",
       "       [1936],\n",
       "       [1572],\n",
       "       [1508],\n",
       "       [1430],\n",
       "       [1891],\n",
       "       [1550],\n",
       "       [1741],\n",
       "       [1690],\n",
       "       [1687],\n",
       "       [1730],\n",
       "       [1674],\n",
       "       [1475],\n",
       "       [1962],\n",
       "       [1532],\n",
       "       [1492],\n",
       "       [1502],\n",
       "       [1974],\n",
       "       [1607],\n",
       "       [1412],\n",
       "       [1557],\n",
       "       [1821],\n",
       "       [1760],\n",
       "       [1685],\n",
       "       [1773],\n",
       "       [1826],\n",
       "       [1565],\n",
       "       [1510],\n",
       "       [1374],\n",
       "       [1402],\n",
       "       [1702],\n",
       "       [1956],\n",
       "       [1933],\n",
       "       [1832],\n",
       "       [1893],\n",
       "       [1831],\n",
       "       [1487],\n",
       "       [2041],\n",
       "       [1850],\n",
       "       [1555],\n",
       "       [2020],\n",
       "       [1593],\n",
       "       [1934],\n",
       "       [1808],\n",
       "       [1722],\n",
       "       [1750],\n",
       "       [1555],\n",
       "       [1524],\n",
       "       [1461]], dtype=int64)"
      ]
     },
     "execution_count": 9,
     "metadata": {},
     "output_type": "execute_result"
    }
   ],
   "source": [
    "X"
   ]
  },
  {
   "cell_type": "code",
   "execution_count": 10,
   "id": "3748b234",
   "metadata": {},
   "outputs": [],
   "source": [
    "y = dataset.iloc[:,1].values\n"
   ]
  },
  {
   "cell_type": "code",
   "execution_count": 11,
   "id": "ec536fb2",
   "metadata": {},
   "outputs": [
    {
     "data": {
      "text/plain": [
       "array([0, 1, 1, 0, 0, 1, 1, 1, 1, 0, 1, 1, 1, 0, 0, 1, 0, 0, 1, 1, 1, 1,\n",
       "       0, 0, 1, 1, 1, 1, 1, 1, 0, 1, 0, 1, 1, 1, 0, 1, 0, 0, 0, 1, 1, 0,\n",
       "       1, 0, 1, 0, 0, 0, 0, 1, 0, 0, 1, 0, 0, 1, 0, 1, 0, 1, 1, 1, 1, 0,\n",
       "       0, 0, 1, 0, 1, 1, 0, 1, 1, 1, 0, 1, 1, 1, 0, 1, 1, 0, 1, 1, 0, 1,\n",
       "       1, 1, 0, 0, 1, 1, 0, 1, 1, 0, 1, 1, 1, 0, 1, 0, 0, 1, 1, 1, 0, 0,\n",
       "       0, 0, 0, 1, 0, 0, 1, 0, 1, 1, 1, 0, 0, 0, 1, 0, 1, 0, 1, 1, 1, 0,\n",
       "       1, 0, 0, 0, 1, 0, 0, 0, 1, 1, 1, 1, 1, 0, 0, 0, 0, 1, 1, 1, 1, 1,\n",
       "       1, 0, 1, 1, 0, 1, 0, 1, 1, 1, 1, 0, 0, 0], dtype=int64)"
      ]
     },
     "execution_count": 11,
     "metadata": {},
     "output_type": "execute_result"
    }
   ],
   "source": [
    "y"
   ]
  },
  {
   "cell_type": "code",
   "execution_count": 12,
   "id": "227131cb",
   "metadata": {},
   "outputs": [
    {
     "data": {
      "image/png": "[encoded data removed]",
      "text/plain": [
       "<Figure size 432x288 with 1 Axes>"
      ]
     },
     "metadata": {},
     "output_type": "display_data"
    }
   ],
   "source": [
    "plt.scatter(X,y)\n",
    "plt.xlabel('SAT')\n",
    "plt.ylabel('Admitted')\n",
    "plt.show()\n"
   ]
  },
  {
   "cell_type": "code",
   "execution_count": 13,
   "id": "6878160d",
   "metadata": {},
   "outputs": [],
   "source": [
    "X = dataset.iloc[:,0].values\n"
   ]
  },
  {
   "cell_type": "code",
   "execution_count": 14,
   "id": "3b8316dd",
   "metadata": {},
   "outputs": [
    {
     "data": {
      "text/plain": [
       "(168,)"
      ]
     },
     "execution_count": 14,
     "metadata": {},
     "output_type": "execute_result"
    }
   ],
   "source": [
    "X.shape"
   ]
  },
  {
   "cell_type": "code",
   "execution_count": 15,
   "id": "66ee8bf7",
   "metadata": {},
   "outputs": [],
   "source": [
    "X = X.reshape(168,1)\n"
   ]
  },
  {
   "cell_type": "code",
   "execution_count": 16,
   "id": "f0f8944e",
   "metadata": {},
   "outputs": [
    {
     "data": {
      "text/plain": [
       "array([[1363],\n",
       "       [1792],\n",
       "       [1954],\n",
       "       [1653],\n",
       "       [1593],\n",
       "       [1755],\n",
       "       [1775],\n",
       "       [1887],\n",
       "       [1893],\n",
       "       [1580],\n",
       "       [1857],\n",
       "       [1880],\n",
       "       [1664],\n",
       "       [1364],\n",
       "       [1693],\n",
       "       [1850],\n",
       "       [1633],\n",
       "       [1634],\n",
       "       [1636],\n",
       "       [1855],\n",
       "       [1987],\n",
       "       [1997],\n",
       "       [1422],\n",
       "       [1508],\n",
       "       [1720],\n",
       "       [1879],\n",
       "       [1634],\n",
       "       [1802],\n",
       "       [1849],\n",
       "       [1764],\n",
       "       [1460],\n",
       "       [1675],\n",
       "       [1656],\n",
       "       [2020],\n",
       "       [1850],\n",
       "       [1865],\n",
       "       [1664],\n",
       "       [1872],\n",
       "       [1654],\n",
       "       [1393],\n",
       "       [1587],\n",
       "       [1631],\n",
       "       [1931],\n",
       "       [1370],\n",
       "       [1810],\n",
       "       [1414],\n",
       "       [1761],\n",
       "       [1477],\n",
       "       [1486],\n",
       "       [1561],\n",
       "       [1549],\n",
       "       [2050],\n",
       "       [1697],\n",
       "       [1543],\n",
       "       [1934],\n",
       "       [1385],\n",
       "       [1670],\n",
       "       [1735],\n",
       "       [1634],\n",
       "       [1777],\n",
       "       [1550],\n",
       "       [1715],\n",
       "       [1925],\n",
       "       [1842],\n",
       "       [1786],\n",
       "       [1435],\n",
       "       [1387],\n",
       "       [1521],\n",
       "       [1975],\n",
       "       [1435],\n",
       "       [1714],\n",
       "       [1634],\n",
       "       [1464],\n",
       "       [1794],\n",
       "       [1855],\n",
       "       [1953],\n",
       "       [1469],\n",
       "       [1663],\n",
       "       [1907],\n",
       "       [1990],\n",
       "       [1542],\n",
       "       [1808],\n",
       "       [1966],\n",
       "       [1679],\n",
       "       [2021],\n",
       "       [2015],\n",
       "       [1473],\n",
       "       [1979],\n",
       "       [1787],\n",
       "       [1687],\n",
       "       [1674],\n",
       "       [1478],\n",
       "       [1735],\n",
       "       [1720],\n",
       "       [1494],\n",
       "       [1964],\n",
       "       [1843],\n",
       "       [1550],\n",
       "       [1764],\n",
       "       [1712],\n",
       "       [1775],\n",
       "       [1531],\n",
       "       [1781],\n",
       "       [1579],\n",
       "       [1526],\n",
       "       [1778],\n",
       "       [1769],\n",
       "       [1824],\n",
       "       [1481],\n",
       "       [1464],\n",
       "       [1591],\n",
       "       [1666],\n",
       "       [1455],\n",
       "       [1934],\n",
       "       [1625],\n",
       "       [1334],\n",
       "       [1721],\n",
       "       [1475],\n",
       "       [1662],\n",
       "       [1861],\n",
       "       [1936],\n",
       "       [1572],\n",
       "       [1508],\n",
       "       [1430],\n",
       "       [1891],\n",
       "       [1550],\n",
       "       [1741],\n",
       "       [1690],\n",
       "       [1687],\n",
       "       [1730],\n",
       "       [1674],\n",
       "       [1475],\n",
       "       [1962],\n",
       "       [1532],\n",
       "       [1492],\n",
       "       [1502],\n",
       "       [1974],\n",
       "       [1607],\n",
       "       [1412],\n",
       "       [1557],\n",
       "       [1821],\n",
       "       [1760],\n",
       "       [1685],\n",
       "       [1773],\n",
       "       [1826],\n",
       "       [1565],\n",
       "       [1510],\n",
       "       [1374],\n",
       "       [1402],\n",
       "       [1702],\n",
       "       [1956],\n",
       "       [1933],\n",
       "       [1832],\n",
       "       [1893],\n",
       "       [1831],\n",
       "       [1487],\n",
       "       [2041],\n",
       "       [1850],\n",
       "       [1555],\n",
       "       [2020],\n",
       "       [1593],\n",
       "       [1934],\n",
       "       [1808],\n",
       "       [1722],\n",
       "       [1750],\n",
       "       [1555],\n",
       "       [1524],\n",
       "       [1461]], dtype=int64)"
      ]
     },
     "execution_count": 16,
     "metadata": {},
     "output_type": "execute_result"
    }
   ],
   "source": [
    "X"
   ]
  },
  {
   "cell_type": "code",
   "execution_count": 17,
   "id": "7fbf89fc",
   "metadata": {},
   "outputs": [],
   "source": [
    "y = dataset.iloc[:,1].values\n"
   ]
  },
  {
   "cell_type": "code",
   "execution_count": 18,
   "id": "99e78de6",
   "metadata": {},
   "outputs": [
    {
     "data": {
      "text/plain": [
       "array([0, 1, 1, 0, 0, 1, 1, 1, 1, 0, 1, 1, 1, 0, 0, 1, 0, 0, 1, 1, 1, 1,\n",
       "       0, 0, 1, 1, 1, 1, 1, 1, 0, 1, 0, 1, 1, 1, 0, 1, 0, 0, 0, 1, 1, 0,\n",
       "       1, 0, 1, 0, 0, 0, 0, 1, 0, 0, 1, 0, 0, 1, 0, 1, 0, 1, 1, 1, 1, 0,\n",
       "       0, 0, 1, 0, 1, 1, 0, 1, 1, 1, 0, 1, 1, 1, 0, 1, 1, 0, 1, 1, 0, 1,\n",
       "       1, 1, 0, 0, 1, 1, 0, 1, 1, 0, 1, 1, 1, 0, 1, 0, 0, 1, 1, 1, 0, 0,\n",
       "       0, 0, 0, 1, 0, 0, 1, 0, 1, 1, 1, 0, 0, 0, 1, 0, 1, 0, 1, 1, 1, 0,\n",
       "       1, 0, 0, 0, 1, 0, 0, 0, 1, 1, 1, 1, 1, 0, 0, 0, 0, 1, 1, 1, 1, 1,\n",
       "       1, 0, 1, 1, 0, 1, 0, 1, 1, 1, 1, 0, 0, 0], dtype=int64)"
      ]
     },
     "execution_count": 18,
     "metadata": {},
     "output_type": "execute_result"
    }
   ],
   "source": [
    "y"
   ]
  },
  {
   "cell_type": "code",
   "execution_count": 19,
   "id": "434993b7",
   "metadata": {},
   "outputs": [],
   "source": [
    "from sklearn.model_selection import train_test_split\n"
   ]
  },
  {
   "cell_type": "code",
   "execution_count": 20,
   "id": "19b5d0e4",
   "metadata": {},
   "outputs": [],
   "source": [
    "X_train,X_test,y_train,y_test = train_test_split(X,y,test_size=0.2,random_state=0)\n"
   ]
  },
  {
   "cell_type": "code",
   "execution_count": 21,
   "id": "298a41ca",
   "metadata": {},
   "outputs": [
    {
     "data": {
      "text/plain": [
       "array([[1715],\n",
       "       [1810],\n",
       "       [1720],\n",
       "       [1842],\n",
       "       [1687],\n",
       "       [1855],\n",
       "       [1674],\n",
       "       [1702],\n",
       "       [1412],\n",
       "       [1633],\n",
       "       [1387],\n",
       "       [1974],\n",
       "       [1587],\n",
       "       [2020],\n",
       "       [1422],\n",
       "       [1634],\n",
       "       [1964],\n",
       "       [1572],\n",
       "       [1526],\n",
       "       [1464],\n",
       "       [1802],\n",
       "       [1674],\n",
       "       [1730],\n",
       "       [1720],\n",
       "       [1455],\n",
       "       [1934],\n",
       "       [1636],\n",
       "       [1861],\n",
       "       [1555],\n",
       "       [1460],\n",
       "       [1679],\n",
       "       [1925],\n",
       "       [1954],\n",
       "       [1777],\n",
       "       [1666],\n",
       "       [1735],\n",
       "       [1370],\n",
       "       [1857],\n",
       "       [1542],\n",
       "       [1808],\n",
       "       [1741],\n",
       "       [1764],\n",
       "       [1831],\n",
       "       [1492],\n",
       "       [1934],\n",
       "       [1549],\n",
       "       [1591],\n",
       "       [1893],\n",
       "       [1786],\n",
       "       [1721],\n",
       "       [1662],\n",
       "       [1435],\n",
       "       [1561],\n",
       "       [1486],\n",
       "       [2015],\n",
       "       [1364],\n",
       "       [1962],\n",
       "       [1508],\n",
       "       [1891],\n",
       "       [1987],\n",
       "       [1850],\n",
       "       [1907],\n",
       "       [1697],\n",
       "       [1469],\n",
       "       [1653],\n",
       "       [1461],\n",
       "       [1374],\n",
       "       [1775],\n",
       "       [1975],\n",
       "       [1953],\n",
       "       [2021],\n",
       "       [1550],\n",
       "       [1664],\n",
       "       [1475],\n",
       "       [1826],\n",
       "       [1693],\n",
       "       [1363],\n",
       "       [1478],\n",
       "       [1565],\n",
       "       [1761],\n",
       "       [1880],\n",
       "       [1781],\n",
       "       [1865],\n",
       "       [1735],\n",
       "       [1631],\n",
       "       [1750],\n",
       "       [1435],\n",
       "       [1792],\n",
       "       [1936],\n",
       "       [1607],\n",
       "       [2041],\n",
       "       [1931],\n",
       "       [1778],\n",
       "       [1593],\n",
       "       [1510],\n",
       "       [1634],\n",
       "       [1654],\n",
       "       [1543],\n",
       "       [1532],\n",
       "       [1687],\n",
       "       [1850],\n",
       "       [1849],\n",
       "       [1625],\n",
       "       [1675],\n",
       "       [1760],\n",
       "       [1690],\n",
       "       [1402],\n",
       "       [1656],\n",
       "       [1685],\n",
       "       [1764],\n",
       "       [1712],\n",
       "       [1966],\n",
       "       [1990],\n",
       "       [1334],\n",
       "       [1722],\n",
       "       [1464],\n",
       "       [1663],\n",
       "       [1879],\n",
       "       [1808],\n",
       "       [1555],\n",
       "       [1593],\n",
       "       [1393],\n",
       "       [1634],\n",
       "       [1821],\n",
       "       [1787],\n",
       "       [1714],\n",
       "       [1979],\n",
       "       [1664],\n",
       "       [1997],\n",
       "       [1580],\n",
       "       [1579],\n",
       "       [1521],\n",
       "       [1475],\n",
       "       [1477]], dtype=int64)"
      ]
     },
     "execution_count": 21,
     "metadata": {},
     "output_type": "execute_result"
    }
   ],
   "source": [
    "X_train\n"
   ]
  },
  {
   "cell_type": "code",
   "execution_count": 22,
   "id": "97c19035",
   "metadata": {},
   "outputs": [
    {
     "data": {
      "text/plain": [
       "(134, 1)"
      ]
     },
     "execution_count": 22,
     "metadata": {},
     "output_type": "execute_result"
    }
   ],
   "source": [
    "X_train.shape\n"
   ]
  },
  {
   "cell_type": "code",
   "execution_count": 23,
   "id": "2594b9ff",
   "metadata": {},
   "outputs": [
    {
     "data": {
      "text/plain": [
       "array([[1933],\n",
       "       [1670],\n",
       "       [1430],\n",
       "       [1550],\n",
       "       [1775],\n",
       "       [2050],\n",
       "       [1887],\n",
       "       [1755],\n",
       "       [1473],\n",
       "       [1502],\n",
       "       [1934],\n",
       "       [1494],\n",
       "       [1850],\n",
       "       [1531],\n",
       "       [1794],\n",
       "       [1414],\n",
       "       [1855],\n",
       "       [1550],\n",
       "       [1557],\n",
       "       [1843],\n",
       "       [1824],\n",
       "       [1769],\n",
       "       [1956],\n",
       "       [1524],\n",
       "       [1385],\n",
       "       [1832],\n",
       "       [1634],\n",
       "       [1773],\n",
       "       [1487],\n",
       "       [2020],\n",
       "       [1893],\n",
       "       [1481],\n",
       "       [1508],\n",
       "       [1872]], dtype=int64)"
      ]
     },
     "execution_count": 23,
     "metadata": {},
     "output_type": "execute_result"
    }
   ],
   "source": [
    "X_test\n"
   ]
  },
  {
   "cell_type": "code",
   "execution_count": 24,
   "id": "cfee2912",
   "metadata": {},
   "outputs": [
    {
     "data": {
      "text/plain": [
       "(34, 1)"
      ]
     },
     "execution_count": 24,
     "metadata": {},
     "output_type": "execute_result"
    }
   ],
   "source": [
    "X_test.shape\n"
   ]
  },
  {
   "cell_type": "code",
   "execution_count": 25,
   "id": "9369fb91",
   "metadata": {},
   "outputs": [],
   "source": [
    "from sklearn.linear_model import LogisticRegression\n"
   ]
  },
  {
   "cell_type": "code",
   "execution_count": 26,
   "id": "fa60fd8f",
   "metadata": {},
   "outputs": [],
   "source": [
    "model = LogisticRegression()\n"
   ]
  },
  {
   "cell_type": "code",
   "execution_count": 27,
   "id": "78ba6a2e",
   "metadata": {},
   "outputs": [
    {
     "data": {
      "text/plain": [
       "LogisticRegression()"
      ]
     },
     "execution_count": 27,
     "metadata": {},
     "output_type": "execute_result"
    }
   ],
   "source": [
    "model.fit(X_train,y_train)\n"
   ]
  },
  {
   "cell_type": "code",
   "execution_count": 28,
   "id": "b1848920",
   "metadata": {},
   "outputs": [],
   "source": [
    "#evaluatio0n"
   ]
  },
  {
   "cell_type": "code",
   "execution_count": 29,
   "id": "9023ba62",
   "metadata": {},
   "outputs": [],
   "source": [
    "y_pred = model.predict(X_test)\n"
   ]
  },
  {
   "cell_type": "code",
   "execution_count": 30,
   "id": "4aa59634",
   "metadata": {},
   "outputs": [
    {
     "data": {
      "text/plain": [
       "array([1, 1, 0, 0, 1, 1, 1, 1, 0, 0, 1, 0, 1, 0, 1, 0, 1, 0, 0, 1, 1, 1,\n",
       "       1, 0, 0, 1, 0, 1, 0, 1, 1, 0, 0, 1], dtype=int64)"
      ]
     },
     "execution_count": 30,
     "metadata": {},
     "output_type": "execute_result"
    }
   ],
   "source": [
    "#prediction\n",
    "y_pred\n"
   ]
  },
  {
   "cell_type": "code",
   "execution_count": 31,
   "id": "6b098d68",
   "metadata": {},
   "outputs": [
    {
     "data": {
      "text/plain": [
       "array([1, 0, 0, 0, 1, 1, 1, 1, 0, 0, 1, 0, 1, 0, 1, 0, 1, 0, 0, 1, 1, 1,\n",
       "       1, 0, 0, 1, 1, 1, 0, 1, 1, 0, 0, 1], dtype=int64)"
      ]
     },
     "execution_count": 31,
     "metadata": {},
     "output_type": "execute_result"
    }
   ],
   "source": [
    "# actual values\n",
    "y_test\n"
   ]
  },
  {
   "cell_type": "code",
   "execution_count": 32,
   "id": "925736d7",
   "metadata": {},
   "outputs": [],
   "source": [
    "from sklearn.metrics import confusion_matrix\n"
   ]
  },
  {
   "cell_type": "code",
   "execution_count": 33,
   "id": "be0d2f24",
   "metadata": {},
   "outputs": [
    {
     "name": "stdout",
     "output_type": "stream",
     "text": [
      "[[14  1]\n",
      " [ 1 18]]\n"
     ]
    }
   ],
   "source": [
    "print(confusion_matrix(y_test,y_pred))\n"
   ]
  },
  {
   "cell_type": "code",
   "execution_count": 34,
   "id": "ff788525",
   "metadata": {},
   "outputs": [],
   "source": [
    "from sklearn.metrics import classification_report\n"
   ]
  },
  {
   "cell_type": "code",
   "execution_count": 35,
   "id": "b0f9f636",
   "metadata": {},
   "outputs": [
    {
     "name": "stdout",
     "output_type": "stream",
     "text": [
      "              precision    recall  f1-score   support\n",
      "\n",
      "           0       0.93      0.93      0.93        15\n",
      "           1       0.95      0.95      0.95        19\n",
      "\n",
      "    accuracy                           0.94        34\n",
      "   macro avg       0.94      0.94      0.94        34\n",
      "weighted avg       0.94      0.94      0.94        34\n",
      "\n"
     ]
    }
   ],
   "source": [
    "print(classification_report(y_test,y_pred))\n"
   ]
  },
  {
   "cell_type": "code",
   "execution_count": null,
   "id": "107ff77d",
   "metadata": {},
   "outputs": [],
   "source": []
  }
 ],
 "metadata": {
  "kernelspec": {
   "display_name": "Python 3 (ipykernel)",
   "language": "python",
   "name": "python3"
  },
  "language_info": {
   "codemirror_mode": {
    "name": "ipython",
    "version": 3
   },
   "file_extension": ".py",
   "mimetype": "text/x-python",
   "name": "python",
   "nbconvert_exporter": "python",
   "pygments_lexer": "ipython3",
   "version": "3.9.7"
  }
 },
 "nbformat": 4,
 "nbformat_minor": 5
}
