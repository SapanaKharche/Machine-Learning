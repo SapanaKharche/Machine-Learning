{
 "cells": [
  {
   "cell_type": "code",
   "execution_count": null,
   "id": "046bd1cc",
   "metadata": {},
   "outputs": [],
   "source": [
    "\n",
    "print(100+100)"
   ]
  },
  {
   "cell_type": "code",
   "execution_count": null,
   "id": "0ebbca52",
   "metadata": {},
   "outputs": [],
   "source": [
    "# variable assign and execution\n",
    "i = 10\n",
    "print(i)"
   ]
  },
  {
   "cell_type": "markdown",
   "id": "4a40a03c",
   "metadata": {},
   "source": [
    "# Add,div,multi,div"
   ]
  },
  {
   "cell_type": "code",
   "execution_count": 3,
   "id": "16726bcf",
   "metadata": {},
   "outputs": [
    {
     "name": "stdout",
     "output_type": "stream",
     "text": [
      "Addition of a and b is :- 30\n"
     ]
    }
   ],
   "source": [
    "a = 10\n",
    "b = 20\n",
    "c = a + b\n",
    "print('Addition of a and b is :-',c)"
   ]
  },
  {
   "cell_type": "code",
   "execution_count": null,
   "id": "624e82f1",
   "metadata": {},
   "outputs": [],
   "source": [
    "a = 10\n",
    "b = 20\n",
    "c = a - b\n",
    "print('substraction of a and b is :-',c)"
   ]
  },
  {
   "cell_type": "code",
   "execution_count": null,
   "id": "97412400",
   "metadata": {},
   "outputs": [],
   "source": [
    "a = 10\n",
    "b = 20\n",
    "c = a + b\n",
    "print('Addition of a and b is :-',c)\n",
    "d = a - b\n",
    "print(\"sub is\",d)\n",
    "e  = a * b\n",
    "print(\"multi is \",e)\n",
    "f = a / b\n",
    "print(\"div is \",f)"
   ]
  },
  {
   "cell_type": "markdown",
   "id": "45d6704c",
   "metadata": {},
   "source": [
    "# Strings"
   ]
  },
  {
   "cell_type": "code",
   "execution_count": 4,
   "id": "0440c1b9",
   "metadata": {},
   "outputs": [
    {
     "name": "stdout",
     "output_type": "stream",
     "text": [
      "hello world\n"
     ]
    }
   ],
   "source": [
    "a = 'hello '\n",
    "b = 'world'\n",
    "c = a + b\n",
    "print(c)"
   ]
  },
  {
   "cell_type": "code",
   "execution_count": 5,
   "id": "c6bdd469",
   "metadata": {},
   "outputs": [
    {
     "name": "stdout",
     "output_type": "stream",
     "text": [
      "hello world welcomes\n"
     ]
    }
   ],
   "source": [
    "#concatination\n",
    "a = 'hello '\n",
    "b = 'world'\n",
    "c = a + b\n",
    "d = 'welcomes'# adding new string\n",
    "print(c,d)"
   ]
  },
  {
   "cell_type": "code",
   "execution_count": 6,
   "id": "8ea8ae43",
   "metadata": {},
   "outputs": [
    {
     "name": "stdout",
     "output_type": "stream",
     "text": [
      "Hello am linux\n",
      "HELLO AM LINUX\n",
      "hello am linux\n",
      "Hello Am Linux\n"
     ]
    }
   ],
   "source": [
    "s = 'hello Am linux'\n",
    "cap = s.capitalize()\n",
    "print(cap)\n",
    "\n",
    "upper = s.upper()\n",
    "print(upper)\n",
    "\n",
    "lower = s.lower()\n",
    "print(lower)\n",
    "\n",
    "title = s.title()\n",
    "print(title)"
   ]
  },
  {
   "cell_type": "markdown",
   "id": "307e7cbc",
   "metadata": {},
   "source": [
    "# checking strings"
   ]
  },
  {
   "cell_type": "code",
   "execution_count": null,
   "id": "63aee39c",
   "metadata": {},
   "outputs": [],
   "source": [
    "s = 'hello am ISRO'\n",
    "print('Is upper?',s.isupper())"
   ]
  },
  {
   "cell_type": "code",
   "execution_count": null,
   "id": "7f1c031e",
   "metadata": {},
   "outputs": [],
   "source": [
    "s = 'hello am isro'\n",
    "print('Is lower?',s.islower())"
   ]
  },
  {
   "cell_type": "code",
   "execution_count": null,
   "id": "cd05ca01",
   "metadata": {},
   "outputs": [],
   "source": [
    "s = 'hello am ISRO'\n",
    "print('Is Titlecase?',s.istitle())"
   ]
  },
  {
   "cell_type": "code",
   "execution_count": null,
   "id": "5cdc314b",
   "metadata": {},
   "outputs": [],
   "source": [
    "s = 'nik'\n",
    "print('Is alphabetical?',s.isalpha())"
   ]
  },
  {
   "cell_type": "code",
   "execution_count": null,
   "id": "26afc208",
   "metadata": {},
   "outputs": [],
   "source": [
    "s = '154668'\n",
    "print('Is nubers?',s.isalnum())"
   ]
  },
  {
   "cell_type": "code",
   "execution_count": null,
   "id": "1fcdfb5a",
   "metadata": {},
   "outputs": [],
   "source": [
    "s = '123'\n",
    "print('Is digit?',s.isdigit())"
   ]
  },
  {
   "cell_type": "markdown",
   "id": "cdaf2799",
   "metadata": {},
   "source": [
    "# Split function"
   ]
  },
  {
   "cell_type": "code",
   "execution_count": null,
   "id": "3ad43555",
   "metadata": {},
   "outputs": [],
   "source": [
    "s = \"welcome to data science\" #spliting by using space\n",
    "q = s.split(' ')\n",
    "print(q)"
   ]
  },
  {
   "cell_type": "code",
   "execution_count": null,
   "id": "0c93df4c",
   "metadata": {},
   "outputs": [],
   "source": [
    "s = \"welcome to data science\" #spliting by particular letter or word\n",
    "q = s.split('t')\n",
    "print(q)"
   ]
  },
  {
   "cell_type": "code",
   "execution_count": null,
   "id": "49552465",
   "metadata": {},
   "outputs": [],
   "source": [
    "s = \"welcome to Data sciEnce\" #spliting by\n",
    "q = s.split('E')               #case sensitive data\n",
    "print(q)"
   ]
  },
  {
   "cell_type": "markdown",
   "id": "14d54af8",
   "metadata": {},
   "source": [
    "# Find function"
   ]
  },
  {
   "cell_type": "code",
   "execution_count": null,
   "id": "703e7e23",
   "metadata": {},
   "outputs": [],
   "source": [
    "s = \"welcome to data science\" #it gives a position of word \n",
    "q = s.find('data')\n",
    "print(q)"
   ]
  },
  {
   "cell_type": "code",
   "execution_count": null,
   "id": "d0f3671b",
   "metadata": {},
   "outputs": [],
   "source": [
    "s = \"welcome to data science\" #\n",
    "q = s.find('9871562254')\n",
    "print(q)"
   ]
  },
  {
   "cell_type": "markdown",
   "id": "69a2fe9c",
   "metadata": {},
   "source": [
    "# Printing Tricks"
   ]
  },
  {
   "cell_type": "code",
   "execution_count": null,
   "id": "20a7d6cd",
   "metadata": {},
   "outputs": [],
   "source": [
    "print('apple')"
   ]
  },
  {
   "cell_type": "code",
   "execution_count": null,
   "id": "597764c6",
   "metadata": {},
   "outputs": [],
   "source": [
    "print('apple,orange,kiwi')"
   ]
  },
  {
   "cell_type": "code",
   "execution_count": null,
   "id": "7a427415",
   "metadata": {},
   "outputs": [],
   "source": [
    "print('apple\\norange\\nkiwi') # \\n stands for newline"
   ]
  },
  {
   "cell_type": "code",
   "execution_count": null,
   "id": "0cd810d9",
   "metadata": {},
   "outputs": [],
   "source": [
    "print('apple\\torange\\tkiwi')  #\\t it gives tabular space         "
   ]
  },
  {
   "cell_type": "code",
   "execution_count": null,
   "id": "be87cc70",
   "metadata": {},
   "outputs": [],
   "source": [
    "print('\\'apple\\'')\n",
    "print(\"\\\"apple\\\"\")"
   ]
  },
  {
   "cell_type": "code",
   "execution_count": null,
   "id": "a08ecad5",
   "metadata": {},
   "outputs": [],
   "source": [
    "print('\\\\apple\\\\')\n"
   ]
  },
  {
   "cell_type": "code",
   "execution_count": null,
   "id": "661ad516",
   "metadata": {},
   "outputs": [],
   "source": [
    "print('apple')"
   ]
  },
  {
   "cell_type": "markdown",
   "id": "4b5f7ab9",
   "metadata": {},
   "source": [
    "# join function"
   ]
  },
  {
   "cell_type": "code",
   "execution_count": 12,
   "id": "2d85ab4c",
   "metadata": {},
   "outputs": [
    {
     "name": "stdout",
     "output_type": "stream",
     "text": [
      "as,bd\n"
     ]
    }
   ],
   "source": [
    "a = ['as','bd'] #seprating by ','\n",
    "b = ','\n",
    "print(b.join(a))"
   ]
  },
  {
   "cell_type": "code",
   "execution_count": null,
   "id": "10719976",
   "metadata": {},
   "outputs": [],
   "source": [
    "a = ['as','bd'] # seprating by '--'\n",
    "b = '--'print(b.join(a))"
   ]
  },
  {
   "cell_type": "code",
   "execution_count": null,
   "id": "874cdb7c",
   "metadata": {},
   "outputs": [],
   "source": [
    "a = ['as','bd'] #seprating by '\\n'\n",
    "b = '\\n'\n",
    "print(b.join(a))"
   ]
  },
  {
   "cell_type": "code",
   "execution_count": null,
   "id": "9d0dc72e",
   "metadata": {},
   "outputs": [],
   "source": [
    "a = ['as','bd'] #seprating by '\\t'\n",
    "b = '\\t'\n",
    "print(b.join(a))"
   ]
  },
  {
   "cell_type": "code",
   "execution_count": null,
   "id": "ea033e70",
   "metadata": {},
   "outputs": [],
   "source": [
    "a = ['as','bd'] #seprating by '\\n' #another way\n",
    "print('\\n'.join(a))"
   ]
  },
  {
   "cell_type": "code",
   "execution_count": null,
   "id": "322cbee5",
   "metadata": {},
   "outputs": [],
   "source": [
    "a = ['as','bd'] #seprating by '\\t' # another way\n",
    "print('\\t'.join(a))"
   ]
  },
  {
   "cell_type": "markdown",
   "id": "dfa715b5",
   "metadata": {},
   "source": [
    "# Format string"
   ]
  },
  {
   "cell_type": "code",
   "execution_count": null,
   "id": "f89cd568",
   "metadata": {},
   "outputs": [],
   "source": []
  },
  {
   "cell_type": "code",
   "execution_count": null,
   "id": "46e51697",
   "metadata": {},
   "outputs": [],
   "source": [
    "print('{0} {1}'.format('one', 'two'))"
   ]
  },
  {
   "cell_type": "code",
   "execution_count": null,
   "id": "ddfa95ce",
   "metadata": {},
   "outputs": [],
   "source": [
    "print('{1} {0}'.format('one', 'two')) # sequencing"
   ]
  },
  {
   "cell_type": "code",
   "execution_count": null,
   "id": "6f5385a1",
   "metadata": {},
   "outputs": [],
   "source": [
    "print('{1} {1} {1} {1}'.format('one', 'two')) # reusing  + sequencing"
   ]
  },
  {
   "cell_type": "code",
   "execution_count": 7,
   "id": "988ff20d",
   "metadata": {},
   "outputs": [
    {
     "name": "stdout",
     "output_type": "stream",
     "text": [
      "two one one two\n"
     ]
    }
   ],
   "source": [
    "print('{1} {0} {0} {1}'.format('one', 'two'))"
   ]
  },
  {
   "cell_type": "code",
   "execution_count": null,
   "id": "c6707225",
   "metadata": {},
   "outputs": [],
   "source": [
    "print('{:>10}'.format('test'))# add space after string"
   ]
  },
  {
   "cell_type": "code",
   "execution_count": null,
   "id": "55b26bc0",
   "metadata": {},
   "outputs": [],
   "source": [
    "print('{:<10}'.format('test'))# add space after string"
   ]
  },
  {
   "cell_type": "code",
   "execution_count": null,
   "id": "28ea9250",
   "metadata": {},
   "outputs": [],
   "source": [
    "print('{:_<10}'.format('test'))# add '_' after string"
   ]
  },
  {
   "cell_type": "code",
   "execution_count": null,
   "id": "6f3a8b81",
   "metadata": {},
   "outputs": [],
   "source": [
    "print('{:.<10}'.format('test'))# add \".\" after string"
   ]
  },
  {
   "cell_type": "code",
   "execution_count": null,
   "id": "b6e98c25",
   "metadata": {},
   "outputs": [],
   "source": [
    "print('{:.>10}'.format('test'))# add '.' before string"
   ]
  },
  {
   "cell_type": "code",
   "execution_count": null,
   "id": "63f964f1",
   "metadata": {},
   "outputs": [],
   "source": [
    "print('{:a>20}'.format('test'))# add 'a' after string"
   ]
  },
  {
   "cell_type": "code",
   "execution_count": null,
   "id": "738d739e",
   "metadata": {},
   "outputs": [],
   "source": [
    "print('{:h>10}'.format('test'))# add 'h' after string"
   ]
  },
  {
   "cell_type": "code",
   "execution_count": null,
   "id": "c9e2b2d6",
   "metadata": {},
   "outputs": [],
   "source": [
    "print('{:.^7}'.format('zip'))# align string to center"
   ]
  },
  {
   "cell_type": "markdown",
   "id": "6ca6fa13",
   "metadata": {},
   "source": [
    "# conditional statement\n",
    "# if else"
   ]
  },
  {
   "cell_type": "code",
   "execution_count": null,
   "id": "d9b63abd",
   "metadata": {},
   "outputs": [],
   "source": [
    "a = 10\n",
    "b = 20\n",
    "if a > b:\n",
    "    print(a)\n",
    "else:\n",
    "    print(b)"
   ]
  },
  {
   "cell_type": "code",
   "execution_count": null,
   "id": "bad6053d",
   "metadata": {},
   "outputs": [],
   "source": [
    "a = 10\n",
    "b = 20\n",
    "if a > b:\n",
    "    print(a)\n",
    "    print('a is greater than b:-')\n",
    "else:\n",
    "    print(b)\n",
    "    print('a is less than b:-')"
   ]
  },
  {
   "cell_type": "code",
   "execution_count": null,
   "id": "70399edb",
   "metadata": {},
   "outputs": [],
   "source": [
    "a = 10\n",
    "b = 20\n",
    "if a > b:\n",
    "    print('a is greater than b:-',a)\n",
    "else:\n",
    "    print('a is less than b:-',b)"
   ]
  },
  {
   "cell_type": "markdown",
   "id": "1f23e159",
   "metadata": {},
   "source": [
    "# if else nested"
   ]
  },
  {
   "cell_type": "code",
   "execution_count": 11,
   "id": "7afda919",
   "metadata": {},
   "outputs": [
    {
     "name": "stdout",
     "output_type": "stream",
     "text": [
      "c is greater2 500\n"
     ]
    }
   ],
   "source": [
    "a = 100\n",
    "b = 200\n",
    "c = 500\n",
    "if a > b:\n",
    "    if a > c:\n",
    "        print('a is greater')\n",
    "    else:\n",
    "            print('c is greaater1')\n",
    "elif b > c:\n",
    "    print('b is greater')\n",
    "else:\n",
    "        print('c is greater2',c)\n",
    "        "
   ]
  },
  {
   "cell_type": "markdown",
   "id": "339bc754",
   "metadata": {},
   "source": [
    "# Functions"
   ]
  },
  {
   "cell_type": "code",
   "execution_count": 9,
   "id": "19fa465a",
   "metadata": {},
   "outputs": [
    {
     "name": "stdout",
     "output_type": "stream",
     "text": [
      "15\n",
      "5\n"
     ]
    }
   ],
   "source": [
    "def add(a, b):\n",
    "    return a + b\n",
    "\n",
    "def sub(a, b):\n",
    "    return a - b\n",
    "\n",
    "p = 10\n",
    "q = 5\n",
    "\n",
    "r = add(p, q)\n",
    "print(r)\n",
    "\n",
    "s = sub(p,q)\n",
    "print(s)"
   ]
  },
  {
   "cell_type": "code",
   "execution_count": 10,
   "id": "792525d3",
   "metadata": {},
   "outputs": [
    {
     "name": "stdout",
     "output_type": "stream",
     "text": [
      "Addition: 15\n",
      "Substraction: 5\n"
     ]
    }
   ],
   "source": [
    "def add(a, b):\n",
    "    return a + b\n",
    "\n",
    "def sub(a, b):\n",
    "   c\n",
    "\n",
    "p = 10\n",
    "q = 5\n",
    "\n",
    "r = add(p, q)\n",
    "print('Addition:',r)\n",
    "\n",
    "s = sub(p,q)\n",
    "print('Substraction:',s)"
   ]
  },
  {
   "cell_type": "code",
   "execution_count": null,
   "id": "49524213",
   "metadata": {},
   "outputs": [],
   "source": [
    "def add(a, b):\n",
    "    r  = a + b\n",
    "    return r\n",
    "\n",
    "def sub(a, b):\n",
    "    s = a - b\n",
    "    return s\n",
    "\n",
    "p = 10\n",
    "q = 5\n",
    "\n",
    "r = add(p, q)\n",
    "print('Addition:',r)\n",
    "\n",
    "s = sub(p,q)\n",
    "print('Substraction:',s)"
   ]
  },
  {
   "cell_type": "code",
   "execution_count": null,
   "id": "55b2bb88",
   "metadata": {},
   "outputs": [],
   "source": [
    "def add(a, b):\n",
    "    r  = a + b\n",
    "    return r\n",
    "\n",
    "def sub(a, b):\n",
    "    s = a - b\n",
    "    return s\n",
    "\n",
    "p = 10\n",
    "q = 5\n",
    "\n",
    "r = add(p, q)\n",
    "print('Addition:',r)\n",
    "\n",
    "s = sub(p,q)\n",
    "print('Substraction:',s)"
   ]
  },
  {
   "cell_type": "code",
   "execution_count": null,
   "id": "1ab4346e",
   "metadata": {},
   "outputs": [],
   "source": [
    "def avengers_bio(Name, Age):\n",
    "    print('Name:',Name, 'Age:',Age)\n",
    "    \n",
    "n1 = 'thor'\n",
    "a1 = 1000\n",
    "n2 = 'captain'\n",
    "a2 = 100\n",
    "\n",
    "avengers_bio(n1,a1)\n",
    "avengers_bio(n2,a2)"
   ]
  },
  {
   "cell_type": "code",
   "execution_count": null,
   "id": "d5db019a",
   "metadata": {},
   "outputs": [],
   "source": [
    "def avengers_bio(Name, Age, city): \n",
    "    print('Name:',Name, 'Age:',Age, 'city:',city)\n",
    "    \n",
    "n1 = 'thor'\n",
    "a1 = 1000\n",
    "c1 = 'Asgaurd' \n",
    "n2 = 'captain'\n",
    "a2 = 100\n",
    "c2 = 'Russia'\n",
    "\n",
    "avengers_bio(n1,a1,c1)\n",
    "avengers_bio(n2,a2,c2)"
   ]
  },
  {
   "cell_type": "code",
   "execution_count": null,
   "id": "47d977de",
   "metadata": {},
   "outputs": [],
   "source": [
    "def avengers_bio(N, A, c):\n",
    "    print('Name:',N, 'Age:',A, 'city:',c)\n",
    "    \n",
    "n1 = 'thor'\n",
    "a1 = 1000\n",
    "c1 = 'Asgaurd'\n",
    "n2 = 'captain'\n",
    "a2 = 100\n",
    "c2 = 'Russia'\n",
    "\n",
    "avengers_bio(n1,a1,c1)\n",
    "avengers_bio(n2,a2,c2)"
   ]
  },
  {
   "cell_type": "markdown",
   "id": "e0aaa0e7",
   "metadata": {},
   "source": [
    "# Conditional statements with Functions"
   ]
  },
  {
   "cell_type": "code",
   "execution_count": null,
   "id": "32c68ea8",
   "metadata": {},
   "outputs": [],
   "source": [
    "def print_greatest(x, y, z):\n",
    "    if x > z:\n",
    "        if x > y:\n",
    "             print('x is greatest')\n",
    "        else:\n",
    "            print('z is greatest1')\n",
    "    elif y > z:\n",
    "        print('y is greatest')\n",
    "    else:\n",
    "        print('z is greatest2',)\n",
    "        \n",
    "x = 10\n",
    "y = 20\n",
    "z = 50\n",
    "\n",
    "print_greatest(x, y, z)\n",
    "        "
   ]
  },
  {
   "cell_type": "code",
   "execution_count": null,
   "id": "8ace6d1a",
   "metadata": {},
   "outputs": [],
   "source": [
    "def print_greatest(x, y, z):\n",
    "    greatest = -1;\n",
    "    if x > z:\n",
    "        if x > y:\n",
    "             greatest = x\n",
    "        else:\n",
    "             greatest = z\n",
    "    elif y > z:\n",
    "         greatest = y\n",
    "    else:\n",
    "        greatest = z\n",
    "        print(greatest,'is greatest')    \n",
    "        \n",
    "x = 10\n",
    "y = 20\n",
    "z = 50\n",
    "\n",
    "print_greatest(x, y, z)\n",
    "        "
   ]
  },
  {
   "cell_type": "code",
   "execution_count": null,
   "id": "15951261",
   "metadata": {},
   "outputs": [],
   "source": [
    "def get_greatest(x, y, z):\n",
    "    greatest = -1;\n",
    "    if x > z:\n",
    "        if x > y:\n",
    "             greatest = x\n",
    "        else:\n",
    "             greatest = z\n",
    "    elif y > z:\n",
    "         greatest = y\n",
    "    else:\n",
    "        greatest = z\n",
    "        return greatest\n",
    "        \n",
    "x = 10\n",
    "y = 20\n",
    "z = 50\n",
    "\n",
    "g = get_greatest(x, y, z)\n",
    "print(g,'is greatest')    \n",
    "        "
   ]
  },
  {
   "cell_type": "markdown",
   "id": "47b18583",
   "metadata": {},
   "source": [
    "# While loop"
   ]
  },
  {
   "cell_type": "code",
   "execution_count": null,
   "id": "0c5f68ce",
   "metadata": {},
   "outputs": [],
   "source": [
    "i = 0\n",
    "while i < 10:\n",
    "    print(i)\n",
    "    i = i + 1\n",
    "    \n",
    "print('Done')    "
   ]
  },
  {
   "cell_type": "code",
   "execution_count": null,
   "id": "33ab3408",
   "metadata": {},
   "outputs": [],
   "source": [
    "i = 0\n",
    "while i < 10:\n",
    "    print('i = ',i)\n",
    "    i = i + 1\n",
    "    \n",
    "print('Done')    "
   ]
  },
  {
   "cell_type": "code",
   "execution_count": null,
   "id": "669fa0cf",
   "metadata": {},
   "outputs": [],
   "source": [
    "# print fibonacii number\n",
    "#1,1,2,3,5....n\n",
    "def print_fibo(n):\n",
    "    n1 = 1\n",
    "    n2 = 1\n",
    "    i = 0\n",
    "    while i < n:\n",
    "        print(n1)\n",
    "        i = i + 1\n",
    "        temp = n2\n",
    "        n2 = n1 + n2\n",
    "        n1 = temp\n",
    "        \n",
    "print_fibo(8)        "
   ]
  },
  {
   "cell_type": "code",
   "execution_count": 24,
   "id": "307e7fdd",
   "metadata": {},
   "outputs": [
    {
     "name": "stdout",
     "output_type": "stream",
     "text": [
      "4\n",
      "3\n",
      "2\n",
      "1\n"
     ]
    }
   ],
   "source": [
    "# checks if list still\n",
    "# contains any element\n",
    "a = [1, 2, 3, 4]\n",
    "\n",
    "while a:\n",
    "\tprint(a.pop())\n"
   ]
  },
  {
   "cell_type": "markdown",
   "id": "e8ae3508",
   "metadata": {},
   "source": [
    "# List data structure"
   ]
  },
  {
   "cell_type": "code",
   "execution_count": null,
   "id": "d077c3cd",
   "metadata": {},
   "outputs": [],
   "source": [
    "p = [1,2,3,4,5,6]\n",
    "p"
   ]
  },
  {
   "cell_type": "code",
   "execution_count": null,
   "id": "ac2e459e",
   "metadata": {},
   "outputs": [],
   "source": [
    "q = [] #empty list\n",
    "q"
   ]
  },
  {
   "cell_type": "code",
   "execution_count": null,
   "id": "0babbb63",
   "metadata": {},
   "outputs": [],
   "source": [
    "p = [1,2,3,4,5,6] # for accesing the elemenet in list\n",
    "p[2]\n"
   ]
  },
  {
   "cell_type": "code",
   "execution_count": null,
   "id": "3ecb4784",
   "metadata": {},
   "outputs": [],
   "source": [
    "p = [1,2,3,4,5,6]# it prints range of element that you specify.\n",
    "p[0:5]"
   ]
  },
  {
   "cell_type": "code",
   "execution_count": null,
   "id": "6f563da9",
   "metadata": {},
   "outputs": [],
   "source": [
    "a = [1,2,3,4,'sam','raj'] # hetrogenious list\n",
    "a"
   ]
  },
  {
   "cell_type": "markdown",
   "id": "dc82e821",
   "metadata": {},
   "source": [
    "# List of string"
   ]
  },
  {
   "cell_type": "code",
   "execution_count": null,
   "id": "8ac90a04",
   "metadata": {},
   "outputs": [],
   "source": [
    "a = ['ab','cd','ef','gh']\n",
    "print('list of string:',a)"
   ]
  },
  {
   "cell_type": "code",
   "execution_count": null,
   "id": "b9671bdd",
   "metadata": {},
   "outputs": [],
   "source": [
    "a = ['ab','cd','ef','gh'] # to add element in list\n",
    "a.append('xz')\n",
    "a         "
   ]
  },
  {
   "cell_type": "code",
   "execution_count": 20,
   "id": "f0b0f3bd",
   "metadata": {},
   "outputs": [
    {
     "data": {
      "text/plain": [
       "5"
      ]
     },
     "execution_count": 20,
     "metadata": {},
     "output_type": "execute_result"
    }
   ],
   "source": [
    "a = ['ab','cd','ef','gh','xz']\n",
    "len(a)"
   ]
  },
  {
   "cell_type": "code",
   "execution_count": 18,
   "id": "4ddfffe3",
   "metadata": {},
   "outputs": [
    {
     "name": "stdout",
     "output_type": "stream",
     "text": [
      "accessing last element of list: gh\n"
     ]
    }
   ],
   "source": [
    "a = ['ab','cd','ef','gh']\n",
    "print('accessing last element of list:',a[3])"
   ]
  },
  {
   "cell_type": "code",
   "execution_count": 19,
   "id": "05cf0b82",
   "metadata": {},
   "outputs": [
    {
     "name": "stdout",
     "output_type": "stream",
     "text": [
      "accessing last element of list: gh\n"
     ]
    }
   ],
   "source": [
    "a = ['ab','cd','ef','gh']\n",
    "print('accessing last element of list:',a[-1])"
   ]
  },
  {
   "cell_type": "code",
   "execution_count": null,
   "id": "edba473a",
   "metadata": {},
   "outputs": [],
   "source": [
    "a = ['ab','cd','ef','gh']\n",
    "print('accessing second last element of list:',a[2],a[-2])"
   ]
  },
  {
   "cell_type": "markdown",
   "id": "7eab67cd",
   "metadata": {},
   "source": [
    "# Printing list of string with while loop"
   ]
  },
  {
   "cell_type": "code",
   "execution_count": null,
   "id": "7f171e41",
   "metadata": {},
   "outputs": [],
   "source": [
    "a = ['ab','cd','ef','gh']\n",
    "b = [1,2,3,4]\n",
    "i = 0\n",
    "while i < 4:\n",
    "    print(a[i],b[i])\n",
    "    i = i+1"
   ]
  },
  {
   "cell_type": "code",
   "execution_count": 1,
   "id": "eabda535",
   "metadata": {},
   "outputs": [
    {
     "data": {
      "text/plain": [
       "[1, 2, 3, 4, 5, 'raj', 'sam', 6]"
      ]
     },
     "execution_count": 1,
     "metadata": {},
     "output_type": "execute_result"
    }
   ],
   "source": [
    "p = [1,2,3,4,5,'raj','sam'] # to add element\n",
    "p.append(6)\n",
    "p"
   ]
  },
  {
   "cell_type": "code",
   "execution_count": null,
   "id": "53fa886d",
   "metadata": {},
   "outputs": [],
   "source": [
    "p = [1,2,3,4,5,'raj','sam']\n",
    "p.append('nik')\n",
    "p"
   ]
  },
  {
   "cell_type": "code",
   "execution_count": null,
   "id": "d1f40fed",
   "metadata": {},
   "outputs": [],
   "source": [
    "p = [1,2,3,4,5,'raj','sam'] # to remove element\n",
    "p.remove(5)\n",
    "p"
   ]
  },
  {
   "cell_type": "code",
   "execution_count": null,
   "id": "b70c6c63",
   "metadata": {},
   "outputs": [],
   "source": [
    "p = [1,2,3,4,5,'raj','sam']\n",
    "p.remove('sam')\n",
    "p"
   ]
  },
  {
   "cell_type": "code",
   "execution_count": null,
   "id": "c291b64a",
   "metadata": {},
   "outputs": [],
   "source": [
    "p = [1,2,3,4,5,'raj','sam'] # to replace element\n",
    "p[5] = 'nik'\n",
    "p"
   ]
  },
  {
   "cell_type": "code",
   "execution_count": null,
   "id": "42c82770",
   "metadata": {},
   "outputs": [],
   "source": [
    "p = [1,2,3,4,5,'raj','sam'] # we can replace it with no also\n",
    "p[5] = 6\n",
    "p"
   ]
  },
  {
   "cell_type": "markdown",
   "id": "f2bcdcb2",
   "metadata": {},
   "source": [
    "# Concatenation"
   ]
  },
  {
   "cell_type": "code",
   "execution_count": null,
   "id": "1fbab7db",
   "metadata": {},
   "outputs": [],
   "source": [
    "l1 = [1,2,3,4]\n",
    "l2 = [5,6,7,8]\n",
    "print(l1+l2)"
   ]
  },
  {
   "cell_type": "code",
   "execution_count": null,
   "id": "dddb3e26",
   "metadata": {},
   "outputs": [],
   "source": [
    "l1 = [1,2,3,4] # another way\n",
    "l2 = [5,6,7,8]\n",
    "l = l1 + l2\n",
    "print(l)"
   ]
  },
  {
   "cell_type": "code",
   "execution_count": null,
   "id": "628ca699",
   "metadata": {},
   "outputs": [],
   "source": [
    "l1 = [1,2,3,4] # add multiple list\n",
    "l2 = [5,6,7,8]\n",
    "l3 = [9,10]\n",
    "l = l1 + l2 +l3\n",
    "print(l)"
   ]
  },
  {
   "cell_type": "code",
   "execution_count": null,
   "id": "3da529a5",
   "metadata": {},
   "outputs": [],
   "source": [
    "l1 = [1,2,3,4]   # empty list\n",
    "l2 = []\n",
    "print(l1+l2)"
   ]
  },
  {
   "cell_type": "code",
   "execution_count": null,
   "id": "77ade086",
   "metadata": {},
   "outputs": [],
   "source": [
    "l1 = [1,2,3,4] # concatenate with list only\n",
    "l2 = [1]\n",
    "print(l1+l2)"
   ]
  },
  {
   "cell_type": "markdown",
   "id": "998184e2",
   "metadata": {},
   "source": [
    "# Repeatation"
   ]
  },
  {
   "cell_type": "code",
   "execution_count": 2,
   "id": "de86ea27",
   "metadata": {},
   "outputs": [
    {
     "name": "stdout",
     "output_type": "stream",
     "text": [
      "[1, 2, 3, 4, 1, 2, 3, 4, 1, 2, 3, 4, 1, 2, 3, 4]\n"
     ]
    }
   ],
   "source": [
    "l1 = [1,2,3,4]\n",
    "print(l1*4)"
   ]
  },
  {
   "cell_type": "code",
   "execution_count": null,
   "id": "1dad6003",
   "metadata": {},
   "outputs": [],
   "source": [
    "l1 = [1,2,3,4]\n",
    "print(l1*1)"
   ]
  },
  {
   "cell_type": "code",
   "execution_count": null,
   "id": "e7e5eabe",
   "metadata": {},
   "outputs": [],
   "source": [
    "l1 = [1,2,3,4]\n",
    "print(l1*0)    # it give you  null string"
   ]
  },
  {
   "cell_type": "code",
   "execution_count": null,
   "id": "09f70adc",
   "metadata": {},
   "outputs": [],
   "source": [
    "# multiplying with lenth\n",
    "l1 = [1,2,3,4]\n",
    "print('lenth: ',len(l1))\n",
    "print(len(l1*0), len(l1*2), len(l1*3))"
   ]
  },
  {
   "cell_type": "code",
   "execution_count": null,
   "id": "fc127b35",
   "metadata": {},
   "outputs": [],
   "source": [
    "a = ['apple','banana','oranges','mango'] # to find or check element\n",
    "print('apple' in a)"
   ]
  },
  {
   "cell_type": "code",
   "execution_count": null,
   "id": "76983c09",
   "metadata": {},
   "outputs": [],
   "source": [
    "a = ['apple','banana','oranges','mango'] # case sensetive\n",
    "print('Apple' in a)"
   ]
  },
  {
   "cell_type": "code",
   "execution_count": null,
   "id": "839f6d97",
   "metadata": {},
   "outputs": [],
   "source": [
    "a = ['apple','banana','oranges','mango']\n",
    "if 'mango' in a:\n",
    "    print(True)\n",
    "else:\n",
    "    print(False)"
   ]
  },
  {
   "cell_type": "markdown",
   "id": "1a994941",
   "metadata": {},
   "source": [
    "# Bubble sort\n"
   ]
  },
  {
   "cell_type": "code",
   "execution_count": null,
   "id": "8d115057",
   "metadata": {},
   "outputs": [],
   "source": [
    "l = [2,5,7,8,9,5,44,7,8]\n",
    "i = 0\n",
    "print('lenth of l:',len(l))\n",
    "print('before:',l)\n",
    "while i < len(l):\n",
    "    j = 0\n",
    "    while j < i:\n",
    "        if l[i] < l[j]:\n",
    "            \n",
    "            temp = l[i]\n",
    "            l[i] = l[j]\n",
    "            l[j] = temp\n",
    "        j = j + 1\n",
    "    i = i + 1\n",
    "print('after',l)    "
   ]
  },
  {
   "cell_type": "markdown",
   "id": "effb08b3",
   "metadata": {},
   "source": [
    "# For loop"
   ]
  },
  {
   "cell_type": "code",
   "execution_count": 10,
   "id": "78b42db5",
   "metadata": {},
   "outputs": [
    {
     "name": "stdout",
     "output_type": "stream",
     "text": [
      "1\n",
      "2\n",
      "3\n",
      "4\n",
      "5\n",
      "6\n"
     ]
    }
   ],
   "source": [
    "a = [1,2,3,4,5,6]\n",
    "for i in a:\n",
    "    print(i)"
   ]
  },
  {
   "cell_type": "code",
   "execution_count": null,
   "id": "4b8199ce",
   "metadata": {},
   "outputs": [],
   "source": [
    "b = ['apple','mango','banana','oranges']\n",
    "for i in b:\n",
    "    print(i)"
   ]
  },
  {
   "cell_type": "markdown",
   "id": "76bf67a9",
   "metadata": {},
   "source": [
    "# sum of elements in list"
   ]
  },
  {
   "cell_type": "code",
   "execution_count": null,
   "id": "4eb276d8",
   "metadata": {},
   "outputs": [],
   "source": [
    "a = [1,2,3,4]\n",
    "s = 0\n",
    "for i in a:\n",
    "    s = s + i\n",
    "print(s)    "
   ]
  },
  {
   "cell_type": "markdown",
   "id": "b6c6b19d",
   "metadata": {},
   "source": [
    "# concatenation of list using for loop"
   ]
  },
  {
   "cell_type": "code",
   "execution_count": 21,
   "id": "42388aac",
   "metadata": {},
   "outputs": [
    {
     "name": "stdout",
     "output_type": "stream",
     "text": [
      "HiAmNotRobot\n"
     ]
    }
   ],
   "source": [
    "b = ['Hi','Am','Not','Robot']\n",
    "c = ''\n",
    "for i in b:\n",
    "    c = c + i\n",
    "print(c)    "
   ]
  },
  {
   "cell_type": "markdown",
   "id": "28ae9202",
   "metadata": {},
   "source": [
    "# Range() method"
   ]
  },
  {
   "cell_type": "code",
   "execution_count": null,
   "id": "5c46a8c8",
   "metadata": {},
   "outputs": [],
   "source": [
    "a = [1,2,3,4,5,6,7,8,9]\n",
    "for i in range(0,len(a)):\n",
    "      print(i,a[i])"
   ]
  },
  {
   "cell_type": "markdown",
   "id": "ed6988bf",
   "metadata": {},
   "source": [
    "# Break statement"
   ]
  },
  {
   "cell_type": "code",
   "execution_count": 3,
   "id": "5336a1ce",
   "metadata": {},
   "outputs": [
    {
     "name": "stdout",
     "output_type": "stream",
     "text": [
      "1\n",
      "2\n",
      "3\n",
      "4\n",
      "5\n"
     ]
    }
   ],
   "source": [
    "a = [1,2,3,4,5,6,7,8,9]\n",
    "for i in a:\n",
    "    if i == 6:\n",
    "        break\n",
    "    print(i)    "
   ]
  },
  {
   "cell_type": "markdown",
   "id": "6549016d",
   "metadata": {},
   "source": [
    "# Continue statement"
   ]
  },
  {
   "cell_type": "code",
   "execution_count": null,
   "id": "dad2648f",
   "metadata": {},
   "outputs": [],
   "source": [
    "a = [1,2,3,5,66,45,88,123]\n",
    "def first_greater(first):\n",
    "    for i in first:\n",
    "        if i < 36:\n",
    "            continue\n",
    "        return i\n",
    "print(first_greater(a))    "
   ]
  },
  {
   "cell_type": "markdown",
   "id": "4cb547d5",
   "metadata": {},
   "source": [
    " # For loop Nesting"
   ]
  },
  {
   "cell_type": "code",
   "execution_count": 1,
   "id": "6b362e63",
   "metadata": {},
   "outputs": [
    {
     "name": "stdout",
     "output_type": "stream",
     "text": [
      "1 apple\n",
      "1 mango\n",
      "1 grapes\n",
      "1 banana\n",
      "2 apple\n",
      "2 mango\n",
      "2 grapes\n",
      "2 banana\n",
      "3 apple\n",
      "3 mango\n",
      "3 grapes\n",
      "3 banana\n",
      "4 apple\n",
      "4 mango\n",
      "4 grapes\n",
      "4 banana\n"
     ]
    }
   ],
   "source": [
    "a = [1,2,3,4]\n",
    "b = ['apple','mango','grapes','banana']\n",
    "for i in a:\n",
    "    for j in b:\n",
    "        print(i,j)\n"
   ]
  },
  {
   "cell_type": "markdown",
   "id": "58bd7869",
   "metadata": {},
   "source": [
    "# Dictionary"
   ]
  },
  {
   "cell_type": "code",
   "execution_count": 2,
   "id": "58b3697b",
   "metadata": {},
   "outputs": [
    {
     "name": "stdout",
     "output_type": "stream",
     "text": [
      "2\n",
      "9\n",
      "{'apple': 2, 'banana': 4, 'mango': 7, 'orange': 9}\n"
     ]
    }
   ],
   "source": [
    "#Dictionary contains key value pair\n",
    "#key value pair called item\n",
    "#it contains no sequence itmes\n",
    "a = {'apple':2,'banana':4,'mango':7,'orange':9}\n",
    "print(a['apple'])\n",
    "print(a['orange'])\n",
    "print(a)"
   ]
  },
  {
   "cell_type": "code",
   "execution_count": 1,
   "id": "0ed02a91",
   "metadata": {},
   "outputs": [
    {
     "name": "stdout",
     "output_type": "stream",
     "text": [
      "apple\n",
      "banana\n",
      "mango\n",
      "orange\n"
     ]
    }
   ],
   "source": [
    "#Printing keys in dictionary\n",
    "a = {'apple':2,'banana':4,'mango':7,'orange':9}\n",
    "for i in a:\n",
    "    print(i)"
   ]
  },
  {
   "cell_type": "code",
   "execution_count": null,
   "id": "665f15c1",
   "metadata": {},
   "outputs": [],
   "source": [
    "#Printing keys and values both with items()method\n",
    "a = {'apple':2,'banana':4,'mango':7,'orange':9}\n",
    "for i,j in a.items():\n",
    "    print(i,j)"
   ]
  },
  {
   "cell_type": "markdown",
   "id": "7791bd5e",
   "metadata": {},
   "source": [
    "# Importing liabraries"
   ]
  },
  {
   "cell_type": "code",
   "execution_count": null,
   "id": "fae730d3",
   "metadata": {},
   "outputs": [],
   "source": [
    "import math\n",
    "print(math.sin(1))"
   ]
  },
  {
   "cell_type": "code",
   "execution_count": null,
   "id": "b6313094",
   "metadata": {},
   "outputs": [],
   "source": [
    "import math\n",
    "print(math.cos(1))"
   ]
  },
  {
   "cell_type": "code",
   "execution_count": 22,
   "id": "2e7f0447",
   "metadata": {},
   "outputs": [
    {
     "name": "stdout",
     "output_type": "stream",
     "text": [
      "Hour: 11\n",
      "Minute: 25\n",
      "seconds: 8\n"
     ]
    }
   ],
   "source": [
    "#printing time\n",
    "import datetime\n",
    "t = datetime.time(11,25,8)# hr,min,sec\n",
    "print('Hour:',t.hour)\n",
    "print('Minute:',t.minute)\n",
    "print('seconds:',t.second)"
   ]
  },
  {
   "cell_type": "code",
   "execution_count": null,
   "id": "92188f7e",
   "metadata": {},
   "outputs": [],
   "source": [
    "#printing date\n",
    "import datetime\n",
    "d = datetime.date(2020,7,21)#year,month,day\n",
    "print('year:',d.year)\n",
    "print('month:',d.month)\n",
    "print('day:',d.day)"
   ]
  },
  {
   "cell_type": "code",
   "execution_count": null,
   "id": "e65131a3",
   "metadata": {},
   "outputs": [],
   "source": [
    "#printing current time\n",
    "import datetime\n",
    "t = datetime.datetime.now()# hr,min,sec\n",
    "print('Hour:',t.hour)\n",
    "print('Minute:',t.minute)\n",
    "print('seconds:',t.second)\n",
    "print('microsecond:',t.microsecond)"
   ]
  },
  {
   "cell_type": "code",
   "execution_count": 9,
   "id": "d9add8cc",
   "metadata": {},
   "outputs": [
    {
     "name": "stdout",
     "output_type": "stream",
     "text": [
      "year: 2023\n",
      "month: 6\n",
      "day: 14\n"
     ]
    }
   ],
   "source": [
    "#printing  current date\n",
    "import datetime\n",
    "d = datetime.datetime.now()#year,month,day\n",
    "print('year:',d.year)\n",
    "print('month:',d.month)\n",
    "print('day:',d.day)"
   ]
  },
  {
   "cell_type": "code",
   "execution_count": null,
   "id": "7bbebb9d",
   "metadata": {},
   "outputs": [],
   "source": [
    "#sub-modules\n",
    "from datetime import date\n",
    "print(date.today())"
   ]
  },
  {
   "cell_type": "code",
   "execution_count": null,
   "id": "a7f03c74",
   "metadata": {},
   "outputs": [],
   "source": [
    "#Printing difference between dates\n",
    "from datetime import date\n",
    "a = date(2021,7,24)\n",
    "b = date(2019,7,21)\n",
    "\n",
    "print('Difference of date:',a-b)"
   ]
  },
  {
   "cell_type": "code",
   "execution_count": 8,
   "id": "fc5506e9",
   "metadata": {},
   "outputs": [
    {
     "name": "stdout",
     "output_type": "stream",
     "text": [
      "Diff. between date and time: 3 days, 0:05:01\n"
     ]
    }
   ],
   "source": [
    "#printing difference between date and time\n",
    "from datetime import datetime\n",
    "\n",
    "a = datetime(2021,7,24, 12,30,5)\n",
    "b = datetime(2021,7,21, 12,25,4)\n",
    "\n",
    "print('Diff. between date and time:',a-b)\n"
   ]
  },
  {
   "cell_type": "markdown",
   "id": "89f61ec5",
   "metadata": {},
   "source": [
    "# Recursion"
   ]
  },
  {
   "cell_type": "code",
   "execution_count": 23,
   "id": "98048de2",
   "metadata": {},
   "outputs": [
    {
     "name": "stdout",
     "output_type": "stream",
     "text": [
      "24\n"
     ]
    }
   ],
   "source": [
    "#printing factorial of n numbers\n",
    "# 4*3*2*1\n",
    "def factorial(n):\n",
    "    if n == 1:\n",
    "        return 1\n",
    "    else:\n",
    "        return n*factorial(n-1)\n",
    "print(factorial(4))    "
   ]
  },
  {
   "cell_type": "code",
   "execution_count": null,
   "id": "4063bbab",
   "metadata": {},
   "outputs": [],
   "source": [
    "#printing sum of square of numbers\n",
    "def sum_square(n):\n",
    "    if n == 1:\n",
    "        return 1\n",
    "    else:\n",
    "        return n*n + sum_square(n-1)\n",
    "    \n",
    "print(sum_square(4))    #16+9+4+1"
   ]
  },
  {
   "cell_type": "markdown",
   "id": "dd7794f1",
   "metadata": {},
   "source": [
    "# Keywords"
   ]
  },
  {
   "cell_type": "code",
   "execution_count": null,
   "id": "791a7b33",
   "metadata": {},
   "outputs": [],
   "source": [
    "import keyword\n",
    "print(keyword.kwlist)\n",
    "print('total keywords:',len(keyword.kwlist))"
   ]
  },
  {
   "cell_type": "code",
   "execution_count": null,
   "id": "d64b110b",
   "metadata": {},
   "outputs": [],
   "source": [
    "import sys\n",
    "print(sys.version_info)"
   ]
  },
  {
   "cell_type": "markdown",
   "id": "9b76e7bc",
   "metadata": {},
   "source": [
    "# Logical oprators"
   ]
  },
  {
   "cell_type": "markdown",
   "id": "5ff6f7b6",
   "metadata": {},
   "source": [
    "# And"
   ]
  },
  {
   "cell_type": "code",
   "execution_count": null,
   "id": "6c95f59f",
   "metadata": {},
   "outputs": [],
   "source": [
    "print(1<5 and 2<5)\n",
    "print(1>5 and 1<5)"
   ]
  },
  {
   "cell_type": "markdown",
   "id": "aa43c0be",
   "metadata": {},
   "source": [
    "# Or"
   ]
  },
  {
   "cell_type": "code",
   "execution_count": 26,
   "id": "de9b0554",
   "metadata": {},
   "outputs": [
    {
     "name": "stdout",
     "output_type": "stream",
     "text": [
      "True\n",
      "False\n"
     ]
    }
   ],
   "source": [
    "print(1<5 or 2<5)\n",
    "print(1>5 or 1>5)"
   ]
  },
  {
   "cell_type": "markdown",
   "id": "1e252137",
   "metadata": {},
   "source": [
    "# Not"
   ]
  },
  {
   "cell_type": "code",
   "execution_count": null,
   "id": "0ff8c714",
   "metadata": {},
   "outputs": [],
   "source": [
    "print(not 1<5)\n",
    "print(not 1>5)"
   ]
  },
  {
   "cell_type": "markdown",
   "id": "c3685edb",
   "metadata": {},
   "source": [
    "# Relational oprators"
   ]
  },
  {
   "cell_type": "code",
   "execution_count": 7,
   "id": "36f534ef",
   "metadata": {},
   "outputs": [
    {
     "name": "stdout",
     "output_type": "stream",
     "text": [
      "False\n",
      "True\n"
     ]
    }
   ],
   "source": [
    "# == equals to\n",
    "print(1==2)\n",
    "print(1==1)"
   ]
  },
  {
   "cell_type": "code",
   "execution_count": null,
   "id": "183a877f",
   "metadata": {},
   "outputs": [],
   "source": [
    "# != not equals to\n",
    "print(1!=2)\n",
    "print(1!=1)"
   ]
  },
  {
   "cell_type": "code",
   "execution_count": null,
   "id": "8bbdee34",
   "metadata": {},
   "outputs": [],
   "source": [
    "# < less than\n",
    "print(1<2)\n",
    "print(1<1)"
   ]
  },
  {
   "cell_type": "code",
   "execution_count": null,
   "id": "85fc9d80",
   "metadata": {},
   "outputs": [],
   "source": [
    "# > greater than\n",
    "print(1>2)\n",
    "print(1>1)"
   ]
  },
  {
   "cell_type": "code",
   "execution_count": null,
   "id": "293ebbe6",
   "metadata": {},
   "outputs": [],
   "source": [
    "# <= less than equals to\n",
    "print(1<=2)\n",
    "print(1<=1)"
   ]
  },
  {
   "cell_type": "code",
   "execution_count": null,
   "id": "cedeca1a",
   "metadata": {},
   "outputs": [],
   "source": [
    "# >= greater than equals to\n",
    "print(1>=2)\n",
    "print(1>=1)"
   ]
  },
  {
   "cell_type": "markdown",
   "id": "6dda32e5",
   "metadata": {},
   "source": [
    "# Square root"
   ]
  },
  {
   "cell_type": "code",
   "execution_count": null,
   "id": "e74c2986",
   "metadata": {},
   "outputs": [],
   "source": [
    "import math\n",
    "print(math.sqrt(4))"
   ]
  },
  {
   "cell_type": "code",
   "execution_count": 27,
   "id": "c9e1f149",
   "metadata": {},
   "outputs": [
    {
     "name": "stdout",
     "output_type": "stream",
     "text": [
      "5.0\n"
     ]
    }
   ],
   "source": [
    "#pythagoras theorm\n",
    "# c*c = a*a + b*b\n",
    "import math\n",
    "a = 3\n",
    "b = 4\n",
    "print(math.sqrt(a*a + b*b))"
   ]
  },
  {
   "cell_type": "code",
   "execution_count": null,
   "id": "ab9386f4",
   "metadata": {},
   "outputs": [],
   "source": [
    "import math\n",
    "print(math.exp(2))"
   ]
  },
  {
   "cell_type": "code",
   "execution_count": null,
   "id": "b5e1907f",
   "metadata": {},
   "outputs": [],
   "source": [
    "import math\n",
    "print(math.exp(1))"
   ]
  },
  {
   "cell_type": "code",
   "execution_count": null,
   "id": "117a7b98",
   "metadata": {},
   "outputs": [],
   "source": [
    "import math\n",
    "print(math.log(100))"
   ]
  },
  {
   "cell_type": "code",
   "execution_count": null,
   "id": "37625527",
   "metadata": {},
   "outputs": [],
   "source": [
    "import math\n",
    "print(math.log(10))"
   ]
  },
  {
   "cell_type": "code",
   "execution_count": null,
   "id": "913c75aa",
   "metadata": {},
   "outputs": [],
   "source": [
    "import math\n",
    "print(math.log10(100))"
   ]
  },
  {
   "cell_type": "markdown",
   "id": "f6428534",
   "metadata": {},
   "source": [
    "# Regular expression"
   ]
  },
  {
   "cell_type": "code",
   "execution_count": 28,
   "id": "30621151",
   "metadata": {},
   "outputs": [
    {
     "name": "stdout",
     "output_type": "stream",
     "text": [
      "Found: Today is sunday and tommorow is monday\n"
     ]
    }
   ],
   "source": [
    "import re\n",
    "s = 'Today is sunday and tommorow is monday'\n",
    "p = re.search('.*and.*',s)\n",
    "if p:\n",
    "    print('Found:',p.group())\n",
    "else:\n",
    "    print('Not Found...')"
   ]
  },
  {
   "cell_type": "code",
   "execution_count": null,
   "id": "eba6f229",
   "metadata": {},
   "outputs": [],
   "source": [
    "#we can create group using regular expression\n",
    "import re\n",
    "s = 'today is sunday and tommorow is monday'\n",
    "p = re.search('(.*)and(.*)',s)\n",
    "if p:\n",
    "    print('Found:',p.group())\n",
    "    print('Group1:',p.group(1))\n",
    "    print('Group2:',p.group(2))\n",
    "else:\n",
    "    print('Not Found...')"
   ]
  },
  {
   "cell_type": "code",
   "execution_count": null,
   "id": "822862e4",
   "metadata": {},
   "outputs": [],
   "source": [
    "#we can create group using regular expression\n",
    "import re\n",
    "s = 'today is sunday and tommorow is monday'\n",
    "p = re.search('(.*)and (.*)',s)\n",
    "if p:\n",
    "    print('Found:',p.group())\n",
    "    print('Group1:',p.group(1))\n",
    "    print('Group1:',p.group(1).capitalize())\n",
    "    print('Group2:',p.group(2))\n",
    "    print('Group2:',p.group(2).capitalize())\n",
    "else:\n",
    "    print('Not Found...')"
   ]
  },
  {
   "cell_type": "code",
   "execution_count": null,
   "id": "b9d100c5",
   "metadata": {},
   "outputs": [],
   "source": [
    "#match function\n",
    "import re\n",
    "s = 'today is sunday and tommorow is monday'\n",
    "p = re.match('today.*',s)\n",
    "if p:\n",
    "    print('Match:',p.group())\n",
    "else:\n",
    "    print('No Match...')"
   ]
  },
  {
   "cell_type": "code",
   "execution_count": null,
   "id": "41d77a3a",
   "metadata": {},
   "outputs": [],
   "source": [
    "#match function\n",
    "import re\n",
    "s = 'today is sunday and tommorow is monday'\n",
    "p = re.match('today.*(and).*',s)\n",
    "if p:\n",
    "    print('Match:',p.group())\n",
    "    print('Match:',p.group(1))\n",
    "else:\n",
    "    print('No Match...')"
   ]
  },
  {
   "cell_type": "markdown",
   "id": "f30a3333",
   "metadata": {},
   "source": [
    "# Substituting digits and non-digits"
   ]
  },
  {
   "cell_type": "code",
   "execution_count": 3,
   "id": "1f7e9661",
   "metadata": {},
   "outputs": [
    {
     "name": "stdout",
     "output_type": "stream",
     "text": [
      "this is \n"
     ]
    }
   ],
   "source": [
    "#\\d use to remove numbers\n",
    "import re\n",
    "s = 'this is 456446261'\n",
    "p = re.sub('\\d', '',s)\n",
    "print(p)"
   ]
  },
  {
   "cell_type": "code",
   "execution_count": null,
   "id": "ad60ff99",
   "metadata": {},
   "outputs": [],
   "source": [
    "#\\D use to remove string\n",
    "import re\n",
    "s = 'this is 456446261'\n",
    "p = re.sub('\\D', '',s)\n",
    "print(p)"
   ]
  },
  {
   "cell_type": "code",
   "execution_count": null,
   "id": "9a2638a3",
   "metadata": {},
   "outputs": [],
   "source": [
    "import re\n",
    "s = 'abc@d.com'\n",
    "#\\w = word character\n",
    "#\\ = as esacpe charatcter\n",
    "#. = any one character\n",
    "#\\. = dot character\n",
    "# + = one or more character\n",
    "p = re.search('\\w+@\\w\\.com',s)\n",
    "if p:\n",
    "    print('Match found:',p.group())\n",
    "else:\n",
    "    print('No Match....')"
   ]
  },
  {
   "cell_type": "code",
   "execution_count": null,
   "id": "4a7e13a9",
   "metadata": {},
   "outputs": [],
   "source": [
    "# Substituting and Replacing\n",
    "import re\n",
    "s = 'this is 116541616'\n",
    "p = re.sub('\\w+s' ,'$',s)\n",
    "print(p)"
   ]
  },
  {
   "cell_type": "markdown",
   "id": "e1232a24",
   "metadata": {},
   "source": [
    "# Tuples"
   ]
  },
  {
   "cell_type": "code",
   "execution_count": null,
   "id": "e38142db",
   "metadata": {},
   "outputs": [],
   "source": [
    "#its combination of numbers and string\n",
    "a = (1,2,'apple','orange') # lenth\n",
    "print(len(a))"
   ]
  },
  {
   "cell_type": "code",
   "execution_count": null,
   "id": "6566e9e2",
   "metadata": {},
   "outputs": [],
   "source": [
    "a = (1,2,'apple','orange')#accesing elements\n",
    "print(a[0],a[1])"
   ]
  },
  {
   "cell_type": "code",
   "execution_count": null,
   "id": "b8ea090b",
   "metadata": {},
   "outputs": [],
   "source": [
    "a = (1,2,'apple','orange')# accesing multiple elements\n",
    "print(a[0:3])"
   ]
  },
  {
   "cell_type": "code",
   "execution_count": null,
   "id": "76118134",
   "metadata": {},
   "outputs": [],
   "source": [
    "a = (1,2,3,4,5) # min max \n",
    "print('Maximum No:',max(a))\n",
    "print(\"Minimum No:\",min(a))"
   ]
  },
  {
   "cell_type": "code",
   "execution_count": null,
   "id": "38fb9197",
   "metadata": {},
   "outputs": [],
   "source": [
    "a = (1,2,3,4,5) # indexing\n",
    "print(a.index(5))"
   ]
  },
  {
   "cell_type": "code",
   "execution_count": 4,
   "id": "d1615d5c",
   "metadata": {},
   "outputs": [
    {
     "name": "stdout",
     "output_type": "stream",
     "text": [
      "4\n"
     ]
    }
   ],
   "source": [
    "a = (1,2,3,4,5,5,6,7,88,99,33,44,5,6,4,2,3,4,5,6,5,4) #counting\n",
    "print(a.count(4))"
   ]
  },
  {
   "cell_type": "code",
   "execution_count": null,
   "id": "69203435",
   "metadata": {},
   "outputs": [],
   "source": [
    "# Relation between tuple and list\n",
    "#converting list into tuple\n",
    "p = [1,2,3,4,5]\n",
    "print('list:',p)\n",
    "q = tuple(p)\n",
    "print('tuple:',q)"
   ]
  },
  {
   "cell_type": "code",
   "execution_count": null,
   "id": "0101367a",
   "metadata": {},
   "outputs": [],
   "source": [
    "# converting tuple into list\n",
    "p = (1,2,3,4,5)\n",
    "print('tuple',p)\n",
    "q = list(p)\n",
    "print('list',q)"
   ]
  },
  {
   "cell_type": "markdown",
   "id": "0f6e0c03",
   "metadata": {},
   "source": [
    "# Reverse opration on string"
   ]
  },
  {
   "cell_type": "code",
   "execution_count": 12,
   "id": "846c23df",
   "metadata": {},
   "outputs": [
    {
     "name": "stdout",
     "output_type": "stream",
     "text": [
      "['Data', 'Science', 'is', 'trending', 'these', 'days']\n"
     ]
    }
   ],
   "source": [
    "s = 'Data Science is trending these days' #Spliting \n",
    "print(s.split())"
   ]
  },
  {
   "cell_type": "code",
   "execution_count": 13,
   "id": "e49aee7b",
   "metadata": {},
   "outputs": [
    {
     "name": "stdout",
     "output_type": "stream",
     "text": [
      "['days', 'these', 'trending', 'is', 'Science', 'Data']\n"
     ]
    }
   ],
   "source": [
    "a = 'Data Science is trending these days' #Reverse\n",
    "print(a.split()[::-1])"
   ]
  },
  {
   "cell_type": "code",
   "execution_count": 14,
   "id": "bce2d8ea",
   "metadata": {},
   "outputs": [
    {
     "name": "stdout",
     "output_type": "stream",
     "text": [
      "days these trending is Science Data\n"
     ]
    }
   ],
   "source": [
    "a = 'Data Science is trending these days' #combinig by join\n",
    "print(' '.join(a.split()[::-1]))"
   ]
  },
  {
   "cell_type": "markdown",
   "id": "cf10abdd",
   "metadata": {},
   "source": [
    "# Passing parameters to function by name"
   ]
  },
  {
   "cell_type": "code",
   "execution_count": null,
   "id": "acb55c1b",
   "metadata": {},
   "outputs": [],
   "source": [
    "def record(name,id_no):\n",
    "    print(name,id_no)\n",
    "record(name='abc',id_no=101)    \n",
    "    "
   ]
  },
  {
   "cell_type": "markdown",
   "id": "bc17e76d",
   "metadata": {},
   "source": [
    "# Set oprations"
   ]
  },
  {
   "cell_type": "code",
   "execution_count": null,
   "id": "34fe1b19",
   "metadata": {},
   "outputs": [],
   "source": [
    "a = {1,2,3,4,5,6,7,7,4,5,67}   # unique and oreder numbers print by set\n",
    "print(a)"
   ]
  },
  {
   "cell_type": "code",
   "execution_count": null,
   "id": "7bbe25aa",
   "metadata": {},
   "outputs": [],
   "source": [
    "s1 = {'ab','cd','ef','cd'}   #Builtin function\n",
    "s1 = set(s1)\n",
    "print(s1)"
   ]
  },
  {
   "cell_type": "markdown",
   "id": "09a9d0c6",
   "metadata": {},
   "source": [
    "# Set Relations"
   ]
  },
  {
   "cell_type": "code",
   "execution_count": null,
   "id": "c24cb81a",
   "metadata": {},
   "outputs": [],
   "source": [
    "s1 = {1,2,3,4,5,6,7}   #superset\n",
    "s2 = {2,3}  #subset\n",
    "\n",
    "print(s1 > s2)\n",
    "print(s2 > s1)"
   ]
  },
  {
   "cell_type": "code",
   "execution_count": null,
   "id": "32c6b3e0",
   "metadata": {},
   "outputs": [],
   "source": [
    "s1 = {1,2,3,4,5,6,7}   #superset\n",
    "s2 = {2,3}  #subset\n",
    "\n",
    "print(s1.issubset(s2)) #issubset\n",
    "print(s2.issubset(s1))\n"
   ]
  },
  {
   "cell_type": "code",
   "execution_count": null,
   "id": "5fd9d9c4",
   "metadata": {},
   "outputs": [],
   "source": [
    "s1 = {1,2,3,4,5,6,7}   #superset\n",
    "s2 = {2,3}  #subset\n",
    "\n",
    "print(s1.issuperset(s2)) #issuperset\n",
    "print(s2.issuperset(s1))\n"
   ]
  },
  {
   "cell_type": "code",
   "execution_count": null,
   "id": "913f0956",
   "metadata": {},
   "outputs": [],
   "source": [
    "# Union\n",
    "s1 = {1,2,3,4,5,6,7,8,7,4,3}   #repeated values remove\n",
    "s2 = {2,3,4,5}\n",
    "\n",
    "print(s1.union(s2))\n",
    "print(s2.union(s1))"
   ]
  },
  {
   "cell_type": "code",
   "execution_count": null,
   "id": "2e076d7a",
   "metadata": {},
   "outputs": [],
   "source": [
    "# Intersection\n",
    "s1 = {1,2,3,4,5,6,7,8,7,4,3}    #common values will be printed\n",
    "s2 = {2,3,4,5}\n",
    "\n",
    "print(s1.intersection(s2))\n",
    "print(s2.intersection(s1))"
   ]
  },
  {
   "cell_type": "markdown",
   "id": "fb4f05ca",
   "metadata": {},
   "source": [
    "# Set Difference"
   ]
  },
  {
   "cell_type": "code",
   "execution_count": null,
   "id": "96a95d28",
   "metadata": {},
   "outputs": [],
   "source": [
    "s1 = {1,2,3,4,5,6,10,11}   # remove common numbers\n",
    "s2 = {2,3,4,5,7,8}\n",
    "\n",
    "s3 = s1 - s2\n",
    "\n",
    "s4 = s1.difference(s2)\n",
    "print(s3,s4)\n",
    "\n",
    "s5 = s2 - s1\n",
    "s6 = s2.difference(s1)\n",
    "print(s5,s6)"
   ]
  },
  {
   "cell_type": "code",
   "execution_count": null,
   "id": "8241dc6a",
   "metadata": {},
   "outputs": [],
   "source": [
    "# Genrating set using other data structur\n",
    "s1 = [1,2,3,4,5,6]\n",
    "s2 = set(s1)\n",
    "print(s2)"
   ]
  },
  {
   "cell_type": "code",
   "execution_count": null,
   "id": "639a539e",
   "metadata": {},
   "outputs": [],
   "source": [
    "s1 = {'abc':101,'efg':102}    #Dictionary to set\n",
    "s2 = set(s1)\n",
    "print(s2)"
   ]
  },
  {
   "cell_type": "code",
   "execution_count": null,
   "id": "757b1482",
   "metadata": {},
   "outputs": [],
   "source": [
    "#Enumarate function\n",
    "#An enumerate function keeps count of the number of iterations done.\n",
    "a = [1,3,5,7]\n",
    "for i,j in enumerate(a):   \n",
    "    print(i,j)"
   ]
  },
  {
   "cell_type": "code",
   "execution_count": null,
   "id": "237fbb45",
   "metadata": {},
   "outputs": [],
   "source": [
    "#List Comphrehension\n",
    "A = [x for x in range(1, 21)]       #Automatically list will genrate\n",
    "print(A)\n"
   ]
  },
  {
   "cell_type": "code",
   "execution_count": null,
   "id": "a5627816",
   "metadata": {},
   "outputs": [],
   "source": [
    "#printing list of odd numbers using list comprehension\n",
    "#x % 2 gives the remainder after the integer division\n",
    "#The % is called the modulo operator. Of course when the remainder is not 0, the number is odd.\n",
    "B = [x for x in range(1, 11) if x % 2 != 0]\n",
    "print(B)"
   ]
  },
  {
   "cell_type": "code",
   "execution_count": null,
   "id": "91f00e86",
   "metadata": {},
   "outputs": [],
   "source": [
    "#printing list of even numbers using list comprehension\n",
    "#x % 2 gives the remainder after the integer division\n",
    "#The % is called the modulo operator. Of course when the remainder is 0, the number is even.\n",
    "B = [x for x in range(1, 11) if x % 2 == 0]\n",
    "print(B)"
   ]
  },
  {
   "cell_type": "code",
   "execution_count": null,
   "id": "7f61bce4",
   "metadata": {},
   "outputs": [],
   "source": [
    "#printing list of squares of even numbers using list comprehension\n",
    "C = [x*x for x in range(1, 11) if x % 2 == 0]\n",
    "print(C)"
   ]
  },
  {
   "cell_type": "code",
   "execution_count": null,
   "id": "a296e52a",
   "metadata": {},
   "outputs": [],
   "source": [
    "#printing list of cube of even numbers using list comprehension\n",
    "C = [x*x*x for x in range(1, 11) if x % 2 == 0]\n",
    "print(C)"
   ]
  },
  {
   "cell_type": "code",
   "execution_count": null,
   "id": "a344777b",
   "metadata": {},
   "outputs": [],
   "source": [
    "#Set Comprehension\n",
    "A = {x for x in range(1,11)}\n",
    "print(A)"
   ]
  },
  {
   "cell_type": "code",
   "execution_count": null,
   "id": "7cec9c2b",
   "metadata": {},
   "outputs": [],
   "source": [
    "#printing set of even no.\n",
    "   #expression , range,     conditional\n",
    "A = {x for x in range(1,6) if x % 2 == 0}\n",
    "print(A)"
   ]
  },
  {
   "cell_type": "code",
   "execution_count": null,
   "id": "c665cada",
   "metadata": {},
   "outputs": [],
   "source": [
    "#Dictionary Comphrehension\n",
    "A = {x : x for x in range(1, 6)}\n",
    "print(A)"
   ]
  },
  {
   "cell_type": "code",
   "execution_count": null,
   "id": "dbbb59f2",
   "metadata": {},
   "outputs": [],
   "source": [
    "#Dictionary Comphrehension\n",
    "# values converted into even numbers\n",
    "A = {x : x*2 for x in range(1, 6)}\n",
    "print(A)"
   ]
  },
  {
   "cell_type": "code",
   "execution_count": null,
   "id": "be74fe2b",
   "metadata": {},
   "outputs": [],
   "source": [
    "#for keys     , odd numbers because \n",
    "A = {x*2 : x for x in range(1, 6)}\n",
    "print(A)"
   ]
  },
  {
   "cell_type": "code",
   "execution_count": null,
   "id": "fcbc32a3",
   "metadata": {},
   "outputs": [],
   "source": [
    "#for values\n",
    "A = {x : x*x for x in range(1, 6)}\n",
    "print(A)"
   ]
  },
  {
   "cell_type": "code",
   "execution_count": null,
   "id": "6940551c",
   "metadata": {},
   "outputs": [],
   "source": [
    "#Permutation of list comphrehension\n",
    "#performing concatenation of string also\n",
    "#here looping through same list of elements\n",
    "A = ['a','b','c']\n",
    "B = [(x+y) for x in A for y in A]\n",
    "print(B)\n"
   ]
  },
  {
   "cell_type": "code",
   "execution_count": null,
   "id": "14dcd978",
   "metadata": {},
   "outputs": [],
   "source": [
    "#another example\n",
    "#Permutation of list comphrehension\n",
    "A = ['a','b']\n",
    "C = [1,2,3]\n",
    "B = [(x,y) for x in A for y in C]\n",
    "print(B)\n"
   ]
  },
  {
   "cell_type": "code",
   "execution_count": null,
   "id": "c15ca376",
   "metadata": {},
   "outputs": [],
   "source": [
    "#Lambda function\n",
    "#A lambda function is a small anonymous function which returns an object.\n",
    "#The object returned by lambda is usually assigned to a variable or used as a part of other bigger functions.\n",
    "#Instead of the conventional def keyword used for creating functions,\n",
    "#a lambda function is defined by using the lambda\n",
    "f = (lambda x : x * 2)\n",
    "print(f(2))"
   ]
  },
  {
   "cell_type": "code",
   "execution_count": null,
   "id": "73f99c82",
   "metadata": {},
   "outputs": [],
   "source": [
    "#multiple parameteres\n",
    "f = (lambda x,y,z: x*y*z)\n",
    "print(f(1,2,3))"
   ]
  },
  {
   "cell_type": "code",
   "execution_count": null,
   "id": "413f1957",
   "metadata": {},
   "outputs": [],
   "source": [
    "f = (lambda x,y : x > y)     #conditinal statements\n",
    "print(f(2,3))"
   ]
  },
  {
   "cell_type": "markdown",
   "id": "15c92d1c",
   "metadata": {},
   "source": [
    "# Map"
   ]
  },
  {
   "cell_type": "code",
   "execution_count": null,
   "id": "dbe18b39",
   "metadata": {},
   "outputs": [],
   "source": [
    "#map() function returns a map object of the results after applying the given function \n",
    "#to each item of a given iterable (list, tuple etc.)\n",
    "#syntax\n",
    "#map(function, iterable)\n",
    "#fun : It is a function to which map passes each element of given iterable.\n",
    "#iter : It is a iterable which is to be mapped.\n",
    "\n",
    "def sqr(x):\n",
    "    return x*x\n",
    "\n",
    "l = [1,2,3,4]\n",
    "\n",
    "result = map(sqr,l)# sqr = function      # l = iterable\n",
    "print(list(result))\n",
    "          \n",
    "print(list(map(lambda x : x*x,l)))\n"
   ]
  },
  {
   "cell_type": "code",
   "execution_count": null,
   "id": "4ceeb71e",
   "metadata": {},
   "outputs": [],
   "source": [
    "# double numbers using map and lambda\n",
    "integers = [2,4,6]\n",
    "result = map(lambda x: x+x, integers)\n",
    "print(result)\n",
    "print(list(result))"
   ]
  },
  {
   "cell_type": "code",
   "execution_count": null,
   "id": "f6a7da26",
   "metadata": {},
   "outputs": [],
   "source": [
    "# adding two lists using map and lambda\n",
    "\n",
    "l1 = [1,2,3]\n",
    "l2 = [3,2,1]\n",
    "\n",
    "result = map(lambda x,y: x+y ,l1,l2)\n",
    "print(list(result))\n"
   ]
  },
  {
   "cell_type": "code",
   "execution_count": null,
   "id": "dfa078e4",
   "metadata": {},
   "outputs": [],
   "source": [
    "# maping list of string\n",
    "# it listify the list of string individually\n",
    "\n",
    "l = ['jan','feb','mar']\n",
    "sep_string = list(map(list,l))\n",
    "print(sep_string)\n",
    "\n"
   ]
  },
  {
   "cell_type": "markdown",
   "id": "ca70819f",
   "metadata": {},
   "source": [
    "# Filter"
   ]
  },
  {
   "cell_type": "markdown",
   "id": "4f5e27b0",
   "metadata": {},
   "source": [
    " # The filter() method filters the given sequence with the help of a function that tests each element in the sequence to be true or not."
   ]
  },
  {
   "cell_type": "code",
   "execution_count": null,
   "id": "10cbad43",
   "metadata": {},
   "outputs": [],
   "source": [
    "#syntax\n",
    "#filter(function,sequence)\n",
    "#function: function that tests if each element of a sequence true or not.\n",
    "#sequence: sequence which needs to be filtered, it can be sets, lists, tuples, or containers of any iterators.\n",
    "\n",
    "#printing odd no with filter\n",
    "l = [1,2,3,4,5,7,8]\n",
    "p = filter(lambda x: x%2 != 0,l)\n",
    "print(list(p))"
   ]
  },
  {
   "cell_type": "code",
   "execution_count": null,
   "id": "550ea17a",
   "metadata": {},
   "outputs": [],
   "source": [
    "#printing even no with filter\n",
    "l = [1,2,3,4,5,7,8]\n",
    "p = filter(lambda x: x%2 == 0,l)\n",
    "print(list(p))"
   ]
  },
  {
   "cell_type": "code",
   "execution_count": null,
   "id": "e23c1792",
   "metadata": {},
   "outputs": [],
   "source": [
    "#another example\n",
    "\n",
    "def is_odd(x):                #Without lambda function\n",
    "    return x%2 != 0\n",
    "\n",
    "l = [1,2,3,4,5,6,7,8]\n",
    "\n",
    "print(list(filter(is_odd,l)))"
   ]
  },
  {
   "cell_type": "markdown",
   "id": "f784efe5",
   "metadata": {},
   "source": [
    "# Reduce"
   ]
  },
  {
   "cell_type": "code",
   "execution_count": null,
   "id": "63511cc1",
   "metadata": {},
   "outputs": [],
   "source": [
    "#reduce func is used to apply a particular function passed in its argument to all of the \n",
    "#list elements mentioned in the sequence passed along.\n",
    "#This function is defined in “functools” module.\n",
    "#reduce(function,sequence)\n",
    "#not specifying list outside\n",
    "#At first step, first two elements of sequence are picked and the result is obtained\n",
    "\n",
    "from functools import reduce\n",
    "p = (reduce(lambda x,y : x*y,[1,2,3,4]))\n",
    "print(p)"
   ]
  },
  {
   "cell_type": "code",
   "execution_count": null,
   "id": "543339f9",
   "metadata": {},
   "outputs": [],
   "source": [
    "#another example\n",
    "# printing sum\n",
    "import functools\n",
    "\n",
    "l1 = [1,3,4,5,2,1]\n",
    "\n",
    "print('total of list elements:-', end='')\n",
    "print(reduce(lambda x,y : x+y, l1))"
   ]
  },
  {
   "cell_type": "code",
   "execution_count": null,
   "id": "5f20260e",
   "metadata": {},
   "outputs": [],
   "source": [
    "#printing maximum number\n",
    "import functools\n",
    "\n",
    "l1 = [1,3,4,5,2,100]\n",
    "\n",
    "print('maximum number is:-', end='')\n",
    "print(reduce(lambda x,y : x if x > y else y, l1))"
   ]
  },
  {
   "cell_type": "code",
   "execution_count": null,
   "id": "eeca684c",
   "metadata": {},
   "outputs": [],
   "source": [
    "#reduce() using operator function\n",
    "\n",
    "import functools\n",
    "\n",
    "import operator\n",
    "\n",
    "l1 = [1,3,4,5,2,2]\n",
    "\n",
    "print('sum of list elements is:-', end='')\n",
    "print(reduce(operator.add, l1))\n",
    "\n",
    "print('product of list elements is:-', end='')  #product = multiplication\n",
    "print(reduce(operator.mul, l1))"
   ]
  },
  {
   "cell_type": "code",
   "execution_count": null,
   "id": "f93e9fa3",
   "metadata": {},
   "outputs": [],
   "source": [
    "# accumulate function\n",
    "# addition of first two numbers then increasing manner\n",
    "\n",
    "import itertools\n",
    "\n",
    "l1 = [1,3,4,5,2,2]\n",
    "\n",
    "\n",
    "print('accumulation of list elements is:-', end='')\n",
    "print(list(itertools.accumulate(l1, lambda x,y: x+y)))\n"
   ]
  },
  {
   "cell_type": "markdown",
   "id": "e00e9675",
   "metadata": {},
   "source": [
    "# global keyword\n",
    "\n",
    "# Global keyword is a keyword that allows a user to modify a variable outside of the current scope. It is used to create global variables from a non-global scope i.e inside a function. Global keyword is used inside a function only when we want to do assignments or when we want to change a variable. Global is not needed for printing and accessing\n"
   ]
  },
  {
   "cell_type": "code",
   "execution_count": null,
   "id": "1da3f5ff",
   "metadata": {},
   "outputs": [],
   "source": [
    "#global is a keyword\n",
    "i = 10\n",
    "def p():\n",
    "    print(i)\n",
    "    \n",
    "def incre():         #without Global keyword\n",
    "    i = 11\n",
    "    print(i)\n",
    "    \n",
    "p()   \n",
    "incre()\n",
    "p()"
   ]
  },
  {
   "cell_type": "code",
   "execution_count": 1,
   "id": "b633cc9b",
   "metadata": {},
   "outputs": [
    {
     "name": "stdout",
     "output_type": "stream",
     "text": [
      "10\n",
      "11\n",
      "11\n"
     ]
    }
   ],
   "source": [
    "#global is a keyword\n",
    "i = 10\n",
    "def p():\n",
    "    print(i)\n",
    "    \n",
    "def incre():  #with Global keyword\n",
    "    global i\n",
    "    i = 11\n",
    "    print(i)\n",
    "    \n",
    "p()   \n",
    "incre()\n",
    "p()"
   ]
  },
  {
   "cell_type": "code",
   "execution_count": 2,
   "id": "005d88aa",
   "metadata": {},
   "outputs": [
    {
     "name": "stdout",
     "output_type": "stream",
     "text": [
      "20\n"
     ]
    }
   ],
   "source": [
    "#another example\n",
    "i = 10\n",
    "def func():\n",
    "    global i\n",
    "    i = i + 10\n",
    "    print(i)\n",
    "func()    "
   ]
  },
  {
   "cell_type": "markdown",
   "id": "46fba2bd",
   "metadata": {},
   "source": [
    "# None keyword"
   ]
  },
  {
   "cell_type": "code",
   "execution_count": null,
   "id": "cf1870c1",
   "metadata": {},
   "outputs": [],
   "source": [
    "#None is a keyword         #it assign to variable      #it used to define null variable\n",
    "i = None\n",
    "def func(l):\n",
    "    if l is None:        #Checking if variable is none\n",
    "        return 'No values assigned'\n",
    "    l = l + 1\n",
    "    return l\n",
    "\n",
    "print(func(i))\n",
    "print(func(10))"
   ]
  },
  {
   "cell_type": "code",
   "execution_count": null,
   "id": "f409e15d",
   "metadata": {},
   "outputs": [],
   "source": [
    "#None is a keyword         #it assign to variable      #it used to define null variable\n",
    "i = 10\n",
    "def func(l):\n",
    "    if l is None:        #Checking if variable is none\n",
    "        return 'No values assigned'\n",
    "    l = l + 1\n",
    "    return l\n",
    "\n",
    "print(func(i))\n",
    "print(func(10))"
   ]
  },
  {
   "cell_type": "markdown",
   "id": "da2ab478",
   "metadata": {},
   "source": [
    "# Is keyword\n",
    "\n",
    "# This keyword is used to test object identity. The “is keyword” is used to test whether two variables belong to the same object. The test will return True if the two objects are the same else it will return False even if the two objects are 100% equal. Note: The == operator is used to test if two objects are the same"
   ]
  },
  {
   "cell_type": "code",
   "execution_count": null,
   "id": "9691997b",
   "metadata": {},
   "outputs": [],
   "source": [
    "a = ['a','b','c','d']\n",
    "b = ['a','b','c','d']\n",
    "print(a is b)\n",
    "print(a == b)"
   ]
  },
  {
   "cell_type": "code",
   "execution_count": null,
   "id": "df06a307",
   "metadata": {
    "scrolled": true
   },
   "outputs": [],
   "source": [
    "a = [1,2,3,4]\n",
    "b = [1,2,3,4]\n",
    "print(a is b)\n",
    "print(a == b)"
   ]
  },
  {
   "cell_type": "code",
   "execution_count": null,
   "id": "8bc0f66f",
   "metadata": {},
   "outputs": [],
   "source": [
    "# but if it is use with if-else like condition then it gives actual true output\n",
    "a = 10\n",
    "b = 10\n",
    "\n",
    "if a is b:\n",
    "    print(True)\n",
    "else:\n",
    "    print(False)\n",
    "    "
   ]
  },
  {
   "cell_type": "markdown",
   "id": "f411624b",
   "metadata": {},
   "source": [
    "# Membership Oprator"
   ]
  },
  {
   "cell_type": "code",
   "execution_count": null,
   "id": "a337cc72",
   "metadata": {},
   "outputs": [],
   "source": [
    "## Membership operators are operators used to validate the membership of a value. \n",
    "## It test for membership in a sequence, such as strings, lists, or tuples."
   ]
  },
  {
   "cell_type": "code",
   "execution_count": null,
   "id": "8c75846e",
   "metadata": {},
   "outputs": [],
   "source": [
    "# Finding common member in list\n",
    "# without  using 'in' operator\n",
    "\n",
    "def overlp(list1,list2):\n",
    " \n",
    "    c=0\n",
    "    d=0\n",
    "    for i in list1:\n",
    "        c+=1               # '+=' addition assignment operator\n",
    "    for j in list2:\n",
    "        d+=1\n",
    "    for i in range(0,c):\n",
    "        for j in range(0,d):\n",
    "            if(list1[i]==list2[j]):\n",
    "                return 1\n",
    "    return 0\n",
    "\n",
    "list1=[1,3,5,7,9]\n",
    "list2=[6,7,8,9]\n",
    "\n",
    "if(overlp(list1,list2)):\n",
    "    print(\"overlaps\")\n",
    "else:\n",
    "    print(\"Does not overlap\")"
   ]
  },
  {
   "cell_type": "code",
   "execution_count": null,
   "id": "9fe689a5",
   "metadata": {
    "scrolled": true
   },
   "outputs": [],
   "source": [
    "#In :-Returns True if a sequence with the specified value is present in the object \n",
    "#not in :-Returns True if a sequence with the specified value is not present in the object\n",
    "\n",
    "# Finding common member in list\n",
    "# using 'in' operator\n",
    "list_1=[1,3,5,7,9]\n",
    "list_2=[6,7,8,9]\n",
    "\n",
    "for item in list_1:\n",
    "    if item in list_2:\n",
    "        print(\"overlapping\")\n",
    "    else:\n",
    "        print(\"not overlapping\")"
   ]
  },
  {
   "cell_type": "code",
   "execution_count": 5,
   "id": "aa5427a2",
   "metadata": {},
   "outputs": [
    {
     "name": "stdout",
     "output_type": "stream",
     "text": [
      "A is present in given list\n",
      "B is NOT present in given list\n"
     ]
    }
   ],
   "source": [
    "# 'not in'  and 'in' operator  examples\n",
    "\n",
    "A = 30\n",
    "B = 25\n",
    "list = [10, 20, 30, 40, 50]\n",
    "\n",
    "if (A not in list):\n",
    "    print(\"A is NOT present in given list\")\n",
    "else:\n",
    "    print(\"A is present in given list\")\n",
    "\n",
    "if (B in list):\n",
    "    print(\"B is present in given list\")\n",
    "else:\n",
    "    print(\"B is NOT present in given list\")"
   ]
  },
  {
   "cell_type": "code",
   "execution_count": 6,
   "id": "da5b8a9e",
   "metadata": {},
   "outputs": [
    {
     "name": "stdout",
     "output_type": "stream",
     "text": [
      "True\n",
      "True\n"
     ]
    }
   ],
   "source": [
    "a = [1,2,3,4,5]   # for list\n",
    "\n",
    "print(4 in a)\n",
    "print(7 not in a)"
   ]
  },
  {
   "cell_type": "code",
   "execution_count": null,
   "id": "3fcd2a45",
   "metadata": {},
   "outputs": [],
   "source": [
    "b = {0:1, 2:3, 4:5}     #Dictionary store key:value in associative manner\n",
    "print(2 in b)            # it only give result for keys.\n",
    "print(3 not in b)"
   ]
  },
  {
   "cell_type": "code",
   "execution_count": null,
   "id": "d03460c2",
   "metadata": {},
   "outputs": [],
   "source": [
    "\n",
    "\n",
    "pes')  # for tuple\n",
    "print('banana' in c)\n",
    "print('orange' in c)\n",
    "print('kiwi' not in c)"
   ]
  },
  {
   "cell_type": "markdown",
   "id": "f3592b3d",
   "metadata": {},
   "source": [
    "# Nested function"
   ]
  },
  {
   "cell_type": "code",
   "execution_count": null,
   "id": "fabba77e",
   "metadata": {},
   "outputs": [],
   "source": [
    "# A function which is defined inside another function is known as inner function or nested function. \n",
    "# Nested functions are able to access variables of the enclosing scope."
   ]
  },
  {
   "cell_type": "code",
   "execution_count": 4,
   "id": "b4054bce",
   "metadata": {},
   "outputs": [],
   "source": [
    "def outerFunction(text): \n",
    "    text = text \n",
    "    \n",
    "    def innerFunction(): \n",
    "        print(text) \n",
    "    \n",
    "    innerFunction('hello')    # does not show any output"
   ]
  },
  {
   "cell_type": "code",
   "execution_count": null,
   "id": "9f1e4119",
   "metadata": {},
   "outputs": [],
   "source": [
    "# It is important that outer function has to be called, so that the inner function can execute. "
   ]
  },
  {
   "cell_type": "code",
   "execution_count": null,
   "id": "fc44c344",
   "metadata": {},
   "outputs": [],
   "source": [
    "def outerFunction(text): \n",
    "    text = text \n",
    "    \n",
    "    def innerFunction(): \n",
    "        print(text) \n",
    "    \n",
    "    innerFunction() \n",
    "outerFunction('welcome')"
   ]
  },
  {
   "cell_type": "code",
   "execution_count": null,
   "id": "10e698f0",
   "metadata": {},
   "outputs": [],
   "source": [
    "# Another example of nested function\n",
    "\n",
    "def f1():\n",
    "    x = 10\n",
    "    def f2():\n",
    "        return x*x\n",
    "    print('multiplication:-',f2())\n",
    "f1()   "
   ]
  },
  {
   "cell_type": "markdown",
   "id": "a14117ba",
   "metadata": {},
   "source": [
    "# Non-local keyword"
   ]
  },
  {
   "cell_type": "code",
   "execution_count": null,
   "id": "7fddb8fc",
   "metadata": {},
   "outputs": [],
   "source": [
    "#The nonlocal keyword is used to work with variables inside nested functions, \n",
    "#where the variable should not belong to the inner function.\n",
    "\n",
    "#Use the keyword nonlocal to declare that the variable is not local."
   ]
  },
  {
   "cell_type": "code",
   "execution_count": null,
   "id": "e4fe6a7e",
   "metadata": {},
   "outputs": [],
   "source": [
    "def a1():\n",
    "    x = 10\n",
    "    def a2():\n",
    "        x = 1         \n",
    "    a2()    \n",
    "    print('x = ',x)    \n",
    "\n",
    "a1()    "
   ]
  },
  {
   "cell_type": "code",
   "execution_count": null,
   "id": "ddc2d656",
   "metadata": {},
   "outputs": [],
   "source": [
    "def a1():\n",
    "    x = 10\n",
    "    def a2():\n",
    "        nonlocal x\n",
    "        x = 1         \n",
    "    a2()    \n",
    "    print('x = ',x)    \n",
    "\n",
    "a1()    "
   ]
  },
  {
   "cell_type": "markdown",
   "id": "0d85e6b6",
   "metadata": {},
   "source": [
    "# Pass statement"
   ]
  },
  {
   "cell_type": "code",
   "execution_count": null,
   "id": "4dd1d928",
   "metadata": {},
   "outputs": [],
   "source": [
    "# In Python, pass is a null statement. The interpreter does not ignore a pass statement, \n",
    "# but nothing happens and the statement results into no operation\n",
    "\n",
    "#The pass statement is useful when you don’t write the implementation of a function \n",
    "#but you want to implement it in the future.\n",
    "\n",
    "# to avoid compilation errors, you can use the pass statement."
   ]
  },
  {
   "cell_type": "code",
   "execution_count": 3,
   "id": "f34014d9",
   "metadata": {},
   "outputs": [],
   "source": [
    "def a1():\n",
    "    pass\n",
    "    #........\n",
    "    a1()\n",
    "def a2():\n",
    "    #.......\n",
    "    a2()"
   ]
  },
  {
   "cell_type": "code",
   "execution_count": 2,
   "id": "5b78573f",
   "metadata": {},
   "outputs": [],
   "source": [
    "def multiplication(num1, num2):\n",
    "  # Implementation will go here \n",
    "  pass # Pass statement\n",
    "\n",
    "multiplication(2, 2)       # it will not show any output   because its null"
   ]
  },
  {
   "cell_type": "code",
   "execution_count": null,
   "id": "23c72020",
   "metadata": {},
   "outputs": [],
   "source": [
    "# This functions prints the number if its not 4\n",
    "def display(number):\n",
    "      if number is 4:\n",
    "        pass # Pass statement\n",
    "      else:\n",
    "        print (\"Number: \", number)\n",
    "    \n",
    "display(4)\n",
    "display(7)"
   ]
  },
  {
   "cell_type": "markdown",
   "id": "9e548e7b",
   "metadata": {},
   "source": [
    "# Raw input"
   ]
  },
  {
   "cell_type": "code",
   "execution_count": null,
   "id": "8e9b1339",
   "metadata": {},
   "outputs": [],
   "source": [
    "a = input('Enter Username :- ')   #python2 =  raw input          #python3 = input\n",
    "print('Hello...',a,' Enter your password and we good to go...!')\n",
    "b = input('Enter password :- ')\n",
    "print('Alright...Lets do some coding...!')"
   ]
  },
  {
   "cell_type": "markdown",
   "id": "3a5c5a39",
   "metadata": {},
   "source": [
    "# Defining class, constructor, class and instance variable"
   ]
  },
  {
   "cell_type": "markdown",
   "id": "9f433ebd",
   "metadata": {},
   "source": [
    "# Classes provide a means of bundling data and functionality together. Creating a new class creates a new type of object, allowing new instances of that type to be made. Each class instance can have attributes attached to it for maintaining its state."
   ]
  },
  {
   "cell_type": "code",
   "execution_count": 2,
   "id": "2cf62fd1",
   "metadata": {},
   "outputs": [
    {
     "name": "stdout",
     "output_type": "stream",
     "text": [
      "learner\n",
      "learner\n"
     ]
    }
   ],
   "source": [
    "class HelloWorld:\n",
    "    name = 'learner'      # class variable\n",
    "    \n",
    "hw = HelloWorld()\n",
    "\n",
    "print(HelloWorld.name)       #  calling with class name Helloworld\n",
    "print(hw.name)         # calling with object hw"
   ]
  },
  {
   "cell_type": "markdown",
   "id": "a72eac4f",
   "metadata": {},
   "source": [
    "# Constructors are generally used for instantiating an object.The task of constructors is to initialize(assign values) to the data members of the class when an object of class is created.In Python the __init__() method is called the constructor and is always called when an object is created.\n",
    "\n"
   ]
  },
  {
   "cell_type": "code",
   "execution_count": 3,
   "id": "2a83573d",
   "metadata": {},
   "outputs": [
    {
     "name": "stdout",
     "output_type": "stream",
     "text": [
      "10 learner\n",
      "20 learner\n"
     ]
    }
   ],
   "source": [
    "# default constructor example\n",
    "\n",
    "class HelloWorld:\n",
    "    name = 'learner'      # class variable\n",
    "    \n",
    "    def __init__(self,i):         # Defining constructor and instance variable\n",
    "        self.i = i\n",
    "        \n",
    "    def printer(self): \n",
    "        print(self.i,self.name)\n",
    "    \n",
    "        \n",
    "hw = HelloWorld(10)\n",
    "hw1 = HelloWorld(20)\n",
    "\n",
    "hw.printer()\n",
    "hw1.printer()"
   ]
  },
  {
   "cell_type": "code",
   "execution_count": 4,
   "id": "61c3b2eb",
   "metadata": {},
   "outputs": [
    {
     "name": "stdout",
     "output_type": "stream",
     "text": [
      "First number = 100\n",
      "Second number = 10\n",
      "Substraction of two numbers = 90\n"
     ]
    }
   ],
   "source": [
    "# parameterized constructor example\n",
    "class Substraction:\n",
    "    first = 0\n",
    "    second = 0\n",
    "    answer = 0\n",
    "      \n",
    "    def __init__(self, f, s):\n",
    "        self.first = f\n",
    "        self.second = s\n",
    "      \n",
    "    def display(self):\n",
    "        print(\"First number = \" + str(self.first))\n",
    "        print(\"Second number = \" + str(self.second))\n",
    "        print(\"Substraction of two numbers = \" + str(self.answer))\n",
    "  \n",
    "    def calculate(self):\n",
    "        self.answer = self.first - self.second\n",
    "        \n",
    "obj = Substraction(100, 10)\n",
    "  \n",
    "obj.calculate()\n",
    "  \n",
    "obj.display()"
   ]
  },
  {
   "cell_type": "markdown",
   "id": "24bde1d0",
   "metadata": {},
   "source": [
    "# Inheritance is the capability of one class to derive or inherit the properties from another class. "
   ]
  },
  {
   "cell_type": "code",
   "execution_count": 8,
   "id": "da111759",
   "metadata": {},
   "outputs": [
    {
     "name": "stdout",
     "output_type": "stream",
     "text": [
      "riya False\n",
      "yuktika True\n"
     ]
    }
   ],
   "source": [
    "# Inheritance\n",
    "class Person():\n",
    "\n",
    "    def __init__(self, name):\n",
    "        self.name = name\n",
    "\n",
    "# To get name\n",
    "    def getName(self):\n",
    "        return self.name\n",
    "\n",
    "# To check if this person is an employee\n",
    "    def isEmployee(self):\n",
    "        return False\n",
    "\n",
    "\n",
    "# Inherited or Subclass (Note Person in bracket)\n",
    "class Employee(Person):\n",
    "\n",
    "# Here we return true\n",
    "    def isEmployee(self):\n",
    "        return True\n",
    "\n",
    "# Driver code\n",
    "emp = Person(\"riya\") \n",
    "print(emp.getName(), emp.isEmployee())\n",
    "\n",
    "emp = Employee(\"yuktika\")\n",
    "print(emp.getName(), emp.isEmployee())\n"
   ]
  },
  {
   "cell_type": "markdown",
   "id": "5585f620",
   "metadata": {},
   "source": [
    "# The __str__ method in Python represents the class objects as a string – it can be used for classes. The __str__ method should be defined in a way that is easy to read and outputs all the members of the class. This method is also used as a debugging tool when the members of a class need to be checked.\n"
   ]
  },
  {
   "cell_type": "markdown",
   "id": "c5a1db08",
   "metadata": {},
   "source": [
    "#  __repr__ is a special method used to represent a class’s objects as a string. __repr__ is called by the repr() built-in function. You can define your own string representation of your class objects using the __repr__ method."
   ]
  },
  {
   "cell_type": "code",
   "execution_count": null,
   "id": "8c510c82",
   "metadata": {},
   "outputs": [],
   "source": [
    "class A:\n",
    "    def __init__(self):\n",
    "        self.val = 10\n",
    "        \n",
    "    def __str__(self):                #Used for friendly readability\n",
    "        return 'class A'\n",
    "    \n",
    "    def __repr__(self):               #Used for representing the object so that it can be reconstructed later\n",
    "        return 'class A: self.val'\n",
    "    \n",
    "    \n",
    "a = A()\n",
    "print(a)\n",
    "\n",
    "print(repr(a))"
   ]
  },
  {
   "cell_type": "code",
   "execution_count": null,
   "id": "e13698e1",
   "metadata": {},
   "outputs": [],
   "source": [
    "class A:\n",
    "    def __init__(self):\n",
    "        self.val = 10\n",
    "        \n",
    "    def __str__(self):\n",
    "        return 'class A'\n",
    "    \n",
    "    __repr__ = __str__\n",
    "    \n",
    "    \n",
    "a = A()\n",
    "print(a)\n",
    "\n",
    "print(repr(a))"
   ]
  },
  {
   "cell_type": "markdown",
   "id": "9c6c5da9",
   "metadata": {},
   "source": [
    "# Encapsulation\n",
    "\n",
    "# Encapsulation is one of the fundamental concepts in object-oriented programming (OOP). It describes the idea of wrapping data and the methods that work on data within one unit. This puts restrictions on accessing variables and methods directly and can prevent the accidental modification of data."
   ]
  },
  {
   "cell_type": "code",
   "execution_count": 6,
   "id": "a8ee06c5",
   "metadata": {},
   "outputs": [
    {
     "name": "stdout",
     "output_type": "stream",
     "text": [
      "100 20\n"
     ]
    }
   ],
   "source": [
    "class speed:\n",
    "    def __init__(self):\n",
    "        self.speed = 10    #Public member\n",
    "        self.__speed_limit = 20   #private member\n",
    "        \n",
    "    def get_speed(self):\n",
    "        return self.speed\n",
    "    \n",
    "    def get_speed_limit(self):\n",
    "        return self.__speed_limit\n",
    "    \n",
    "s = speed()\n",
    "s.speed = 100\n",
    "s.__speed_limit = 50\n",
    "\n",
    "print(s.get_speed(), s.get_speed_limit())\n"
   ]
  },
  {
   "cell_type": "code",
   "execution_count": null,
   "id": "4f4dd618",
   "metadata": {},
   "outputs": [],
   "source": [
    "#Changing speed limit and private member\n",
    "\n",
    "class speed:\n",
    "    def __init__(self):\n",
    "        self.speed = 10    #Public member\n",
    "        self.__speed_limit = 20   #private member\n",
    "        \n",
    "    def get_speed(self):\n",
    "        return self.speed\n",
    "    \n",
    "    def get_speed_limit(self):\n",
    "        return self.__speed_limit\n",
    "    \n",
    "    def set_speed_limit(self, new_speed_limit):\n",
    "        self.__speed_limit = new_speed_limit\n",
    "    \n",
    "s = speed()\n",
    "s.speed = 100\n",
    "s.__speed_limit = 50\n",
    "s.set_speed_limit(150)\n",
    "\n",
    "print(s.get_speed(), s.get_speed_limit())\n"
   ]
  },
  {
   "cell_type": "code",
   "execution_count": 17,
   "id": "e9c885ac",
   "metadata": {},
   "outputs": [
    {
     "ename": "SyntaxError",
     "evalue": "unexpected character after line continuation character (Temp/ipykernel_17796/1923893048.py, line 2)",
     "output_type": "error",
     "traceback": [
      "\u001b[1;36m  File \u001b[1;32m\"C:\\Users\\kharc\\AppData\\Local\\Temp/ipykernel_17796/1923893048.py\"\u001b[1;36m, line \u001b[1;32m2\u001b[0m\n\u001b[1;33m    print(\"\\\" a \"\\\")\u001b[0m\n\u001b[1;37m                   ^\u001b[0m\n\u001b[1;31mSyntaxError\u001b[0m\u001b[1;31m:\u001b[0m unexpected character after line continuation character\n"
     ]
    }
   ],
   "source": [
    "a = yogi\n",
    "print(\"\\\"  \"\\\")"
   ]
  },
  {
   "cell_type": "markdown",
   "id": "652d5e31",
   "metadata": {},
   "source": [
    "# Operator Overloading\n",
    "# Operator Overloading means giving extended meaning beyond their predefined operational meaning. For example operator + is used to add two integers as well as join two strings and merge two lists. It is achievable because ‘+’ operator is overloaded by int class and str class."
   ]
  },
  {
   "cell_type": "code",
   "execution_count": 7,
   "id": "6db49413",
   "metadata": {},
   "outputs": [
    {
     "name": "stdout",
     "output_type": "stream",
     "text": [
      "4\n",
      "DataScience\n",
      "8\n",
      "AIisFutuer AIisFutuer AIisFutuer AIisFutuer \n"
     ]
    }
   ],
   "source": [
    "#Examples of overloading\n",
    "\n",
    "print(2 + 2)\n",
    "\n",
    "# concatenate two strings\n",
    "print(\"Data\"+\"Science\")\n",
    "\n",
    "# Product two numbers\n",
    "print(2 * 4)\n",
    "\n",
    "# Repeat the String\n",
    "print(\"AIisFutuer \"*4)\n"
   ]
  },
  {
   "cell_type": "markdown",
   "id": "adc6abd5",
   "metadata": {},
   "source": [
    "# Python provides some special function or magic function that is automatically invoked when it is associated with that particular operator. For example, when we use + operator, the magic method __add__ is automatically invoked in which the operation for + operator is defined."
   ]
  },
  {
   "cell_type": "code",
   "execution_count": 8,
   "id": "af01ead6",
   "metadata": {},
   "outputs": [
    {
     "name": "stdout",
     "output_type": "stream",
     "text": [
      "10\n",
      "DataScience\n"
     ]
    }
   ],
   "source": [
    "# to overload an binary + operator\n",
    "\n",
    "class X:\n",
    "    def __init__(self, a):\n",
    "        self.a = a\n",
    "\n",
    "# adding two objects\n",
    "    def __add__(self, b):\n",
    "        return self.a + b.a\n",
    "ob1 = X(6)\n",
    "ob2 = X(4)\n",
    "ob3 = X(\"Data\")\n",
    "ob4 = X(\"Science\")\n",
    "\n",
    "print(ob1 + ob2)\n",
    "print(ob3 + ob4)\n"
   ]
  },
  {
   "cell_type": "code",
   "execution_count": null,
   "id": "cd6633a1",
   "metadata": {},
   "outputs": [],
   "source": [
    "# Addition of two complex numbers overloading\n",
    "\n",
    "class Complex:\n",
    "    def __init__(self, a, b):\n",
    "        self.a = a\n",
    "        self.b = b\n",
    "\n",
    "# adding two objects\n",
    "    def __add__(self, other):\n",
    "        return self.a + other.a, self.b + other.b\n",
    "\n",
    "Ob1 = Complex(6, 4)\n",
    "Ob2 = Complex(1, 5)\n",
    "Ob3 = Ob1 + Ob2\n",
    "print(Ob3)\n"
   ]
  },
  {
   "cell_type": "code",
   "execution_count": null,
   "id": "9ad70371",
   "metadata": {},
   "outputs": [],
   "source": [
    "# a comparison operators overloading\n",
    "\n",
    "class Z:\n",
    "    def __init__(self, a):\n",
    "        self.a = a\n",
    "    def __gt__(self, other):\n",
    "        if(self.a>other.a):\n",
    "            return True\n",
    "        else:\n",
    "            return False\n",
    "ob1 = Z(4)\n",
    "ob2 = Z(6)\n",
    "if(ob1>ob2):\n",
    "    print(\"ob1 is greater than ob2\")\n",
    "else:\n",
    "    print(\"ob2 is greater than ob1\")\n"
   ]
  },
  {
   "cell_type": "code",
   "execution_count": null,
   "id": "9ce957a0",
   "metadata": {},
   "outputs": [],
   "source": [
    "# equality and less than operator overloading\n",
    "\n",
    "class Y:\n",
    "    def __init__(self, a):\n",
    "        self.a = a\n",
    "    def __lt__(self, other):\n",
    "        if(self.a<other.a):\n",
    "            return \"ob1 is < ob2\"\n",
    "        else:\n",
    "            return \"ob2 is < ob1\"\n",
    "    def __eq__(self, other):\n",
    "        if(self.a == other.a):\n",
    "            return \"Both are equal\"\n",
    "        else:\n",
    "            return \"Not equal\"\n",
    "\n",
    "ob1 = Y(2)\n",
    "ob2 = Y(3)\n",
    "print(ob1 < ob2)\n",
    "\n",
    "ob3 = Y(4)\n",
    "ob4 = Y(4)\n",
    "print(ob3 == ob4)\n"
   ]
  },
  {
   "cell_type": "markdown",
   "id": "c28f8671",
   "metadata": {},
   "source": [
    "# Binary Operators:-\n",
    "\n",
    "# Operator Magic Method\n",
    "\n",
    "#  +__add__(self, other)\n",
    "#  – __sub__(self, other)\n",
    "#  * __mul__(self, other)\n",
    "#  / __truediv__(self, other)\n",
    "#  // __floordiv__(self, other)\n",
    "#  % __mod__(self, other)\n",
    "#  ** __pow__(self, other)\n",
    "#  >> __rshift__(self, other)\n",
    "#  << __lshift__(self, other)\n",
    "#  & __and__(self, other)\n",
    "#  | __or__(self, other)\n",
    "#  ^ __xor__(self, other)\n",
    "\n",
    "# Comparison Operators :\n",
    "\n",
    "# Operator Magic Method\n",
    "\n",
    "# < __LT__(SELF, OTHER)\n",
    "# > __GT__(SELF, OTHER)\n",
    "# <= __LE__(SELF, OTHER)\n",
    "# >= __GE__(SELF, OTHER)\n",
    "# == __EQ__(SELF, OTHER)\n",
    "# != __NE__(SELF, OTHER)"
   ]
  },
  {
   "cell_type": "markdown",
   "id": "229915cf",
   "metadata": {},
   "source": [
    "# Writing to file"
   ]
  },
  {
   "cell_type": "code",
   "execution_count": null,
   "id": "6c2cd3c2",
   "metadata": {},
   "outputs": [],
   "source": [
    "f = open('a1.txt','w')     # W is for Write\n",
    "\n",
    "f.write('Welcome to SparrowAI...\\n')\n",
    "f.write('Data Science is trending these days...\\n')\n",
    "f.write('AI is future...\\n\\n')\n",
    "\n",
    "f.write('hello Coders...\\nthis session is going to be fun...\\nIm glad that you learning python with me')\n",
    "\n",
    "f.close()"
   ]
  },
  {
   "cell_type": "markdown",
   "id": "3a67ed77",
   "metadata": {},
   "source": [
    "# Reading to file"
   ]
  },
  {
   "cell_type": "code",
   "execution_count": null,
   "id": "3fe5f651",
   "metadata": {},
   "outputs": [],
   "source": [
    "f = open('a1.txt','r')     # r is for Read\n",
    "\n",
    "for l in f:\n",
    "    print(l,end='')"
   ]
  },
  {
   "cell_type": "markdown",
   "id": "129a3660",
   "metadata": {},
   "source": [
    "# OS module, this module provides a portable way of using operating system dependent functionality. "
   ]
  },
  {
   "cell_type": "code",
   "execution_count": null,
   "id": "5ed970e4",
   "metadata": {},
   "outputs": [],
   "source": [
    "import os\n",
    "\n",
    "cwd = os.getcwd()\n",
    "\n",
    "print('Current Working Directory:-',cwd)"
   ]
  },
  {
   "cell_type": "code",
   "execution_count": null,
   "id": "8aa3a7e9",
   "metadata": {},
   "outputs": [],
   "source": [
    "import os\n",
    "\n",
    "d = os.getcwd()\n",
    "\n",
    "fname = os.path.join(d, 'a1.txt')    #Join two or more pathname components\n",
    "\n",
    "print(fname)\n",
    "\n",
    "f = open(fname, 'r')\n",
    "\n",
    "for l in f:\n",
    "    print(l,end='')"
   ]
  },
  {
   "cell_type": "code",
   "execution_count": null,
   "id": "a31f98bc",
   "metadata": {},
   "outputs": [],
   "source": []
  }
 ],
 "metadata": {
  "kernelspec": {
   "display_name": "Python 3 (ipykernel)",
   "language": "python",
   "name": "python3"
  },
  "language_info": {
   "codemirror_mode": {
    "name": "ipython",
    "version": 3
   },
   "file_extension": ".py",
   "mimetype": "text/x-python",
   "name": "python",
   "nbconvert_exporter": "python",
   "pygments_lexer": "ipython3",
   "version": "3.9.7"
  }
 },
 "nbformat": 4,
 "nbformat_minor": 5
}
