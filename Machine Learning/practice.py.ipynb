{
 "cells": [
  {
   "cell_type": "code",
   "execution_count": 5,
   "id": "6d477b3d",
   "metadata": {},
   "outputs": [
    {
     "name": "stdout",
     "output_type": "stream",
     "text": [
      "True\n"
     ]
    }
   ],
   "source": [
    "#MEMBERSHIP OPRATOR \n",
    "#THERE ARE TWO TYPES OF MEMBERSHIP OPERATOR IN AND NOT IN\n",
    "st1 = \"hello sita how are you\"\n",
    "print(\"are\" in st1)"
   ]
  },
  {
   "cell_type": "code",
   "execution_count": 8,
   "id": "2e874748",
   "metadata": {},
   "outputs": [
    {
     "name": "stdout",
     "output_type": "stream",
     "text": [
      "True\n"
     ]
    }
   ],
   "source": [
    "st2 = (\"hello sweetheart\")\n",
    "print(\"sweet\" in st2)"
   ]
  },
  {
   "cell_type": "code",
   "execution_count": 10,
   "id": "8f39f124",
   "metadata": {},
   "outputs": [],
   "source": [
    "#NOT IN MEMBERSHIP OPRATOR"
   ]
  },
  {
   "cell_type": "code",
   "execution_count": 11,
   "id": "d1761f67",
   "metadata": {},
   "outputs": [
    {
     "name": "stdout",
     "output_type": "stream",
     "text": [
      "True\n"
     ]
    }
   ],
   "source": [
    "st1 = (\"hii honey\")\n",
    "print(\"to\" not in st1)"
   ]
  },
  {
   "cell_type": "code",
   "execution_count": 13,
   "id": "3c130a7d",
   "metadata": {},
   "outputs": [
    {
     "name": "stdout",
     "output_type": "stream",
     "text": [
      "True\n"
     ]
    }
   ],
   "source": [
    "st1 = (\"hii google\")\n",
    "print(\"happy\" not in st1)"
   ]
  },
  {
   "cell_type": "code",
   "execution_count": 14,
   "id": "04264d6a",
   "metadata": {},
   "outputs": [
    {
     "name": "stdout",
     "output_type": "stream",
     "text": [
      "False\n"
     ]
    }
   ],
   "source": [
    "st1 = (\"hii goggle\")\n",
    "print(\"hii\" not in st1)"
   ]
  },
  {
   "cell_type": "code",
   "execution_count": 9,
   "id": "2e225bd8",
   "metadata": {},
   "outputs": [
    {
     "name": "stdout",
     "output_type": "stream",
     "text": [
      "101\n",
      "102\n",
      "103\n",
      "104\n",
      "105\n"
     ]
    }
   ],
   "source": [
    "#ARRAY \n",
    "# DECLARE BY TWO METHODS IMPOR ARRAY AND FROM ARRAY IMPORT*\n",
    "import array\n",
    "stu_roll = array.array('i',[101,102,103,104,105])\n",
    "print(stu_roll[0])\n",
    "print(stu_roll[1])\n",
    "print(stu_roll[2])\n",
    "print(stu_roll[3])\n",
    "print(stu_roll[4])"
   ]
  },
  {
   "cell_type": "code",
   "execution_count": 79,
   "id": "9d0dfd56",
   "metadata": {},
   "outputs": [],
   "source": [
    "#example 2"
   ]
  },
  {
   "cell_type": "code",
   "execution_count": 80,
   "id": "33dee7fd",
   "metadata": {},
   "outputs": [
    {
     "name": "stdout",
     "output_type": "stream",
     "text": [
      "101\n",
      "102\n",
      "103\n",
      "104\n",
      "105\n"
     ]
    }
   ],
   "source": [
    "import array as ar\n",
    "stu_roll = ar.array('i',[101,102,103,104,105])\n",
    "print(stu_roll[0])\n",
    "print(stu_roll[1])\n",
    "print(stu_roll[2])\n",
    "print(stu_roll[3])\n",
    "print(stu_roll[4])"
   ]
  },
  {
   "cell_type": "code",
   "execution_count": 81,
   "id": "e150dd85",
   "metadata": {},
   "outputs": [],
   "source": [
    "#exaple using form arrray import"
   ]
  },
  {
   "cell_type": "code",
   "execution_count": 82,
   "id": "650e20af",
   "metadata": {},
   "outputs": [
    {
     "name": "stdout",
     "output_type": "stream",
     "text": [
      "101\n",
      "102\n",
      "103\n",
      "104\n",
      "105\n"
     ]
    }
   ],
   "source": [
    "from array import*\n",
    "stu_roll = array('i',[101,102,103,104,105])\n",
    "print(stu_roll[0])\n",
    "print(stu_roll[1])\n",
    "print(stu_roll[2])\n",
    "print(stu_roll[3])\n",
    "print(stu_roll[4])"
   ]
  },
  {
   "cell_type": "code",
   "execution_count": 83,
   "id": "1c561edf",
   "metadata": {},
   "outputs": [
    {
     "name": "stdout",
     "output_type": "stream",
     "text": [
      "104\n",
      "105\n"
     ]
    }
   ],
   "source": [
    "from array import*\n",
    "stu_roll = array('i',[101,102,103,104,105])\n",
    "print(stu_roll[3])\n",
    "print(stu_roll[4])"
   ]
  },
  {
   "cell_type": "code",
   "execution_count": 84,
   "id": "f61bc134",
   "metadata": {},
   "outputs": [],
   "source": [
    "#we can write float value also means type code f #example 3"
   ]
  },
  {
   "cell_type": "code",
   "execution_count": 85,
   "id": "21759dfe",
   "metadata": {},
   "outputs": [
    {
     "name": "stdout",
     "output_type": "stream",
     "text": [
      "101.30000305175781\n",
      "1.0199999809265137\n",
      "1.0299999713897705\n",
      "1.0399999618530273\n",
      "1.0499999523162842\n"
     ]
    }
   ],
   "source": [
    "import array\n",
    "stu_roll = array.array('f',[101.3,1.02,1.03,1.04,1.05])\n",
    "print(stu_roll[0])\n",
    "print(stu_roll[1])\n",
    "print(stu_roll[2])\n",
    "print(stu_roll[3])\n",
    "print(stu_roll[4])"
   ]
  },
  {
   "cell_type": "code",
   "execution_count": 86,
   "id": "09f8a4c9",
   "metadata": {},
   "outputs": [
    {
     "name": "stdout",
     "output_type": "stream",
     "text": [
      "104.0\n",
      "105.0\n"
     ]
    }
   ],
   "source": [
    "from array import*\n",
    "stu_roll = array('f',[101,102,103,104,105])\n",
    "print(stu_roll[3])\n",
    "print(stu_roll[4])"
   ]
  },
  {
   "cell_type": "code",
   "execution_count": 87,
   "id": "663128ae",
   "metadata": {},
   "outputs": [],
   "source": [
    "#Accesing array using for loop\n",
    "#without index number"
   ]
  },
  {
   "cell_type": "code",
   "execution_count": 88,
   "id": "a2ddf8c1",
   "metadata": {},
   "outputs": [
    {
     "name": "stdout",
     "output_type": "stream",
     "text": [
      "101\n",
      "102\n",
      "103\n",
      "304\n",
      "105\n"
     ]
    }
   ],
   "source": [
    "from array import*\n",
    "stu_roll = array('i', [101,102,103,304,105])\n",
    "for ele in stu_roll:\n",
    "    print(ele)"
   ]
  },
  {
   "cell_type": "code",
   "execution_count": 89,
   "id": "be0d857d",
   "metadata": {},
   "outputs": [
    {
     "name": "stdout",
     "output_type": "stream",
     "text": [
      "101\n",
      "102\n",
      "103\n",
      "304\n",
      "105\n"
     ]
    }
   ],
   "source": [
    "#Accesing array using for loop\n",
    "#with index number here range is 5 n is shows the nos\n",
    "from array import*\n",
    "stu_roll = array('i',[101,102,103,304,105])\n",
    "\n",
    "n = len(stu_roll)\n",
    "\n",
    "for i in range(n):\n",
    "    print(stu_roll[i])"
   ]
  },
  {
   "cell_type": "code",
   "execution_count": 90,
   "id": "1040296b",
   "metadata": {},
   "outputs": [
    {
     "name": "stdout",
     "output_type": "stream",
     "text": [
      "0 = 101\n",
      "1 = 102\n",
      "2 = 103\n",
      "3 = 104\n",
      "4 = 105\n"
     ]
    }
   ],
   "source": [
    "#if want to see the numbers with index\n",
    "from array import*\n",
    "stu_roll = array('i',[101,102,103,104,105,])\n",
    "n = len(stu_roll)\n",
    "for i in range(n):\n",
    "    print(i, \"=\", stu_roll[i])\n",
    "                  "
   ]
  },
  {
   "cell_type": "code",
   "execution_count": 91,
   "id": "07b27c17",
   "metadata": {},
   "outputs": [
    {
     "name": "stdout",
     "output_type": "stream",
     "text": [
      "101\n",
      "102\n",
      "103\n",
      "104\n",
      "105\n"
     ]
    }
   ],
   "source": [
    "from array import*\n",
    "stu_roll = array('i', [101,102,103,104,105])\n",
    "\n",
    "n = len(stu_roll)\n",
    "i = 0\n",
    "while (i<n):\n",
    "    print(stu_roll[i])\n",
    "    i+=1\n",
    "    "
   ]
  },
  {
   "cell_type": "code",
   "execution_count": 1,
   "id": "7442e1ce",
   "metadata": {},
   "outputs": [],
   "source": [
    "#printing list using while lopp"
   ]
  },
  {
   "cell_type": "code",
   "execution_count": 6,
   "id": "7795a9a8",
   "metadata": {},
   "outputs": [
    {
     "name": "stdout",
     "output_type": "stream",
     "text": [
      "0 da\n",
      "1 gh\n",
      "2 j\n",
      "3 kj\n"
     ]
    }
   ],
   "source": [
    "a = [0,1,2,3,4,5]\n",
    "b = ['da','gh','j','kj']\n",
    "i = 0\n",
    "while i<4:\n",
    "    print(a[i],b[i])\n",
    "    i = i +1"
   ]
  },
  {
   "cell_type": "code",
   "execution_count": 7,
   "id": "d258b4ad",
   "metadata": {},
   "outputs": [
    {
     "data": {
      "text/plain": [
       "[0, 1, 2, 3, 4, 5, 8]"
      ]
     },
     "execution_count": 7,
     "metadata": {},
     "output_type": "execute_result"
    }
   ],
   "source": [
    "a = [0,1,2,3,4,5]   #to add new ele\n",
    "a.append(8)\n",
    "a"
   ]
  },
  {
   "cell_type": "code",
   "execution_count": 10,
   "id": "74a3f4c4",
   "metadata": {},
   "outputs": [
    {
     "data": {
      "text/plain": [
       "[1, 2, 3, 'ag', 'ojii', 'sunoji']"
      ]
     },
     "execution_count": 10,
     "metadata": {},
     "output_type": "execute_result"
    }
   ],
   "source": [
    "p = [1,2,3,'ag','ojii']\n",
    "p.append('sunoji')\n",
    "p\n"
   ]
  },
  {
   "cell_type": "code",
   "execution_count": 11,
   "id": "4b3ca748",
   "metadata": {},
   "outputs": [],
   "source": [
    "#repetation"
   ]
  },
  {
   "cell_type": "code",
   "execution_count": 13,
   "id": "602b9677",
   "metadata": {},
   "outputs": [
    {
     "name": "stdout",
     "output_type": "stream",
     "text": [
      "[1, 2, 3, 4, 1, 2, 3, 4, 1, 2, 3, 4, 1, 2, 3, 4]\n"
     ]
    }
   ],
   "source": [
    "l1 = [1,2,3,4]\n",
    "print(l1*4)"
   ]
  },
  {
   "cell_type": "code",
   "execution_count": 15,
   "id": "53691aeb",
   "metadata": {},
   "outputs": [
    {
     "name": "stdout",
     "output_type": "stream",
     "text": [
      "[4, 5, 6, 7, 4, 5, 6, 7, 4, 5, 6, 7]\n"
     ]
    }
   ],
   "source": [
    "a = [4,5,6,7]\n",
    "print(a*3)"
   ]
  },
  {
   "cell_type": "code",
   "execution_count": 20,
   "id": "c01f0db1",
   "metadata": {},
   "outputs": [
    {
     "name": "stdout",
     "output_type": "stream",
     "text": [
      "lenth: 4\n",
      "0 8 16\n"
     ]
    }
   ],
   "source": [
    "#multiplying with lenth\n",
    "l1 = [1,2,3,4]\n",
    "print('lenth:',len(l1))\n",
    "print(len(l1*0),len(l1*2),len(l1*4))"
   ]
  },
  {
   "cell_type": "code",
   "execution_count": 22,
   "id": "b9ca49b6",
   "metadata": {},
   "outputs": [
    {
     "name": "stdout",
     "output_type": "stream",
     "text": [
      "lenth: 4\n",
      "0 16\n"
     ]
    }
   ],
   "source": [
    "a1 = [1,1,1,1]\n",
    "print('lenth:',len(a1))\n",
    "print(len(a1*0),len(a1*4))"
   ]
  },
  {
   "cell_type": "code",
   "execution_count": 24,
   "id": "f917c162",
   "metadata": {},
   "outputs": [
    {
     "name": "stdout",
     "output_type": "stream",
     "text": [
      "True\n"
     ]
    }
   ],
   "source": [
    "a = ['apple','mango','orange'] #to find or check element\n",
    "print('apple' in a)"
   ]
  },
  {
   "cell_type": "code",
   "execution_count": 25,
   "id": "c67e2898",
   "metadata": {},
   "outputs": [
    {
     "name": "stdout",
     "output_type": "stream",
     "text": [
      "True\n"
     ]
    }
   ],
   "source": [
    "a = [1,2,'mango']\n",
    "print('mango' in a)"
   ]
  },
  {
   "cell_type": "code",
   "execution_count": 33,
   "id": "c224f058",
   "metadata": {},
   "outputs": [
    {
     "name": "stdout",
     "output_type": "stream",
     "text": [
      "1\n",
      "2\n",
      "3\n"
     ]
    }
   ],
   "source": [
    "#BREAK STATEMENT\n",
    "a = [1,2,3,4,5]\n",
    "for i in a:\n",
    "    if i == 4:\n",
    "        break\n",
    "    print(i)"
   ]
  },
  {
   "cell_type": "code",
   "execution_count": 35,
   "id": "9c7052dc",
   "metadata": {},
   "outputs": [],
   "source": [
    "#continue statement"
   ]
  },
  {
   "cell_type": "code",
   "execution_count": 36,
   "id": "6c42a18b",
   "metadata": {},
   "outputs": [
    {
     "name": "stdout",
     "output_type": "stream",
     "text": [
      "66\n"
     ]
    }
   ],
   "source": [
    "a = [1,2,3,5,66,45,88,123]\n",
    "def first_greater(first):\n",
    "    for i in first:\n",
    "        if i < 36:\n",
    "            continue\n",
    "        return i\n",
    "print(first_greater(a))  "
   ]
  },
  {
   "cell_type": "code",
   "execution_count": 37,
   "id": "5dee267c",
   "metadata": {},
   "outputs": [],
   "source": [
    "#importing libraries"
   ]
  },
  {
   "cell_type": "code",
   "execution_count": 38,
   "id": "070d6b28",
   "metadata": {},
   "outputs": [
    {
     "name": "stdout",
     "output_type": "stream",
     "text": [
      "0.8414709848078965\n"
     ]
    }
   ],
   "source": [
    "import math\n",
    "print(math.sin(1))"
   ]
  },
  {
   "cell_type": "code",
   "execution_count": 39,
   "id": "40f73257",
   "metadata": {},
   "outputs": [
    {
     "name": "stdout",
     "output_type": "stream",
     "text": [
      "1.5574077246549023\n"
     ]
    }
   ],
   "source": [
    "import math\n",
    "print(math.tan(1))"
   ]
  },
  {
   "cell_type": "code",
   "execution_count": 40,
   "id": "6f993210",
   "metadata": {},
   "outputs": [],
   "source": [
    "###printing time###"
   ]
  },
  {
   "cell_type": "code",
   "execution_count": 43,
   "id": "c04b30b2",
   "metadata": {},
   "outputs": [
    {
     "name": "stdout",
     "output_type": "stream",
     "text": [
      "Today's date: 2023-06-21\n"
     ]
    }
   ],
   "source": [
    "from datetime import date\n",
    "today = date.today()\n",
    "print(\"Today's date:\",today)\n"
   ]
  },
  {
   "cell_type": "code",
   "execution_count": 49,
   "id": "0a356dc0",
   "metadata": {},
   "outputs": [
    {
     "name": "stdout",
     "output_type": "stream",
     "text": [
      "hour: 11\n",
      "minute: 2\n",
      "seconds: 4\n"
     ]
    }
   ],
   "source": [
    "import datetime\n",
    "t= datetime.time(11,2,4)     ## hr ,min,sec\n",
    "print('hour:',t.hour)\n",
    "print('minute:',t.minute)\n",
    "print('seconds:',t.second)"
   ]
  },
  {
   "cell_type": "code",
   "execution_count": 53,
   "id": "1f1798b1",
   "metadata": {},
   "outputs": [
    {
     "name": "stdout",
     "output_type": "stream",
     "text": [
      "hour: 2\n",
      "seconds: 4\n"
     ]
    }
   ],
   "source": [
    "import datetime\n",
    "t = datetime.time(2,4)\n",
    "print('hour:',t.hour)\n",
    "print('seconds:',t.minute)"
   ]
  },
  {
   "cell_type": "code",
   "execution_count": 55,
   "id": "3fd39285",
   "metadata": {},
   "outputs": [],
   "source": [
    "## PRINTING DATE ###"
   ]
  },
  {
   "cell_type": "code",
   "execution_count": 57,
   "id": "31fd3577",
   "metadata": {},
   "outputs": [
    {
     "name": "stdout",
     "output_type": "stream",
     "text": [
      "year: 2021\n",
      "month: 7\n",
      "day: 21\n"
     ]
    }
   ],
   "source": [
    "import datetime\n",
    "d = datetime.date(2021,7,21) #year, month,day\n",
    "print('year:',d.year)\n",
    "print('month:',d.month)\n",
    "print('day:',d.day)"
   ]
  },
  {
   "cell_type": "code",
   "execution_count": 58,
   "id": "234ea7d0",
   "metadata": {},
   "outputs": [],
   "source": [
    "## printing current time ##"
   ]
  },
  {
   "cell_type": "code",
   "execution_count": 59,
   "id": "4a855717",
   "metadata": {},
   "outputs": [
    {
     "name": "stdout",
     "output_type": "stream",
     "text": [
      "hour: 15\n",
      "minute: 29\n",
      "second: 12\n",
      "microsecond: 86835\n"
     ]
    }
   ],
   "source": [
    "import datetime\n",
    "t = datetime.datetime.now()\n",
    "print('hour:',t.hour)\n",
    "print('minute:',t.minute)\n",
    "print('second:',t.second)\n",
    "print('microsecond:',t.microsecond)"
   ]
  },
  {
   "cell_type": "code",
   "execution_count": 61,
   "id": "fb7a11d2",
   "metadata": {},
   "outputs": [
    {
     "name": "stdout",
     "output_type": "stream",
     "text": [
      "year: 2023\n",
      "month: 6\n",
      "day: 21\n"
     ]
    }
   ],
   "source": [
    "## TO PRINT CUURENT DATE\n",
    "import datetime\n",
    "d = datetime.datetime.now()\n",
    "print('year:',d.year)\n",
    "print('month:',d.month)\n",
    "print('day:',d.day)\n"
   ]
  },
  {
   "cell_type": "code",
   "execution_count": 62,
   "id": "c7abb4a8",
   "metadata": {},
   "outputs": [],
   "source": [
    "## SUB MODELS"
   ]
  },
  {
   "cell_type": "code",
   "execution_count": 64,
   "id": "9f7c2145",
   "metadata": {},
   "outputs": [
    {
     "name": "stdout",
     "output_type": "stream",
     "text": [
      "2023-06-21\n"
     ]
    }
   ],
   "source": [
    "from datetime import date\n",
    "print(date.today())"
   ]
  },
  {
   "cell_type": "code",
   "execution_count": 65,
   "id": "bc0edb86",
   "metadata": {},
   "outputs": [
    {
     "name": "stdout",
     "output_type": "stream",
     "text": [
      "diff.between date and time: -2218 days, 0:00:00\n"
     ]
    }
   ],
   "source": [
    "## printing diffrence between dates\n",
    "from datetime import date \n",
    "a = date(2016,2,24)\n",
    "b = date(2022,3,22)\n",
    "print('diff.between date and time:',a-b)\n"
   ]
  },
  {
   "cell_type": "code",
   "execution_count": 71,
   "id": "f5767b38",
   "metadata": {},
   "outputs": [
    {
     "name": "stdout",
     "output_type": "stream",
     "text": [
      "diff.between date and time: -1096 days, 1:58:00\n"
     ]
    }
   ],
   "source": [
    "## printing diffrence between date and time\n",
    "from datetime import datetime\n",
    "a = datetime(2016,2,24, 12,23,5)\n",
    "b = datetime(2019,2,24, 10,25,5)\n",
    "print('diff.between date and time:',a-b)"
   ]
  },
  {
   "cell_type": "code",
   "execution_count": 72,
   "id": "7db560b8",
   "metadata": {},
   "outputs": [],
   "source": [
    "# Square root"
   ]
  },
  {
   "cell_type": "code",
   "execution_count": 73,
   "id": "1ad1f965",
   "metadata": {},
   "outputs": [
    {
     "name": "stdout",
     "output_type": "stream",
     "text": [
      "2.0\n"
     ]
    }
   ],
   "source": [
    "import math\n",
    "print(math.sqrt(4))"
   ]
  },
  {
   "cell_type": "code",
   "execution_count": 74,
   "id": "83b4e897",
   "metadata": {},
   "outputs": [
    {
     "name": "stdout",
     "output_type": "stream",
     "text": [
      "4.605170185988092\n"
     ]
    }
   ],
   "source": [
    "import math \n",
    "print(math.log(100))"
   ]
  },
  {
   "cell_type": "code",
   "execution_count": 76,
   "id": "c8165bcc",
   "metadata": {},
   "outputs": [
    {
     "name": "stdout",
     "output_type": "stream",
     "text": [
      "2.718281828459045\n"
     ]
    }
   ],
   "source": [
    "import math \n",
    "print(math.exp(1))"
   ]
  },
  {
   "cell_type": "code",
   "execution_count": 77,
   "id": "39eb1a5d",
   "metadata": {},
   "outputs": [
    {
     "name": "stdout",
     "output_type": "stream",
     "text": [
      "2.302585092994046\n"
     ]
    }
   ],
   "source": [
    "import math \n",
    "print(math.log(10))"
   ]
  },
  {
   "cell_type": "code",
   "execution_count": 78,
   "id": "3a8703c2",
   "metadata": {},
   "outputs": [],
   "source": [
    "#Tuples"
   ]
  },
  {
   "cell_type": "code",
   "execution_count": 79,
   "id": "30b96f04",
   "metadata": {},
   "outputs": [
    {
     "name": "stdout",
     "output_type": "stream",
     "text": [
      "4\n"
     ]
    }
   ],
   "source": [
    "# its a combinatin of numbers and string\n",
    "a = (1,2,'apple','orange') #lenth\n",
    "print(len(a))"
   ]
  },
  {
   "cell_type": "code",
   "execution_count": 80,
   "id": "fb524a72",
   "metadata": {},
   "outputs": [
    {
     "name": "stdout",
     "output_type": "stream",
     "text": [
      "(1, 2, 3, 4)\n"
     ]
    }
   ],
   "source": [
    "a = (1,2,3,4)\n",
    "print(a)"
   ]
  },
  {
   "cell_type": "code",
   "execution_count": 83,
   "id": "682e0d89",
   "metadata": {},
   "outputs": [
    {
     "name": "stdout",
     "output_type": "stream",
     "text": [
      "orange 2\n"
     ]
    }
   ],
   "source": [
    "a = (1,2,'apple','orange') #accesing elements by index no \n",
    "print(a[3],a[1])"
   ]
  },
  {
   "cell_type": "code",
   "execution_count": 87,
   "id": "c5ad4995",
   "metadata": {},
   "outputs": [
    {
     "name": "stdout",
     "output_type": "stream",
     "text": [
      "(1, 2, 3, 'apple')\n"
     ]
    }
   ],
   "source": [
    "a = (1,2,3,'apple','orange') #accesing multiple elements\n",
    "print(a[0:4])"
   ]
  },
  {
   "cell_type": "code",
   "execution_count": 88,
   "id": "bcb9d6c3",
   "metadata": {},
   "outputs": [
    {
     "name": "stdout",
     "output_type": "stream",
     "text": [
      "maximum No: 5\n",
      "minimum No: 1\n"
     ]
    }
   ],
   "source": [
    "a = (1,2,3,4,5)  #min max\n",
    "print('maximum No:',max(a))\n",
    "print('minimum No:',min(a))"
   ]
  },
  {
   "cell_type": "code",
   "execution_count": 90,
   "id": "8a02380e",
   "metadata": {},
   "outputs": [
    {
     "name": "stdout",
     "output_type": "stream",
     "text": [
      "4\n"
     ]
    }
   ],
   "source": [
    "a = (1,2,3,4,5) ##indexing\n",
    "print(a.index(5))\n"
   ]
  },
  {
   "cell_type": "code",
   "execution_count": 94,
   "id": "0e6720b5",
   "metadata": {},
   "outputs": [
    {
     "name": "stdout",
     "output_type": "stream",
     "text": [
      "1\n"
     ]
    }
   ],
   "source": [
    "a = (1,2,3,4,5,6,7,8,9,12,2334,44,33,22,67,78,77)\n",
    "print(a.count(77)) #counting #doubt"
   ]
  },
  {
   "cell_type": "code",
   "execution_count": 95,
   "id": "327f67ca",
   "metadata": {},
   "outputs": [
    {
     "name": "stdout",
     "output_type": "stream",
     "text": [
      "list: [1, 2, 3, 4, 5]\n",
      "tuple: (1, 2, 3, 4, 5)\n"
     ]
    }
   ],
   "source": [
    "#relationship between tuple and list\n",
    "#converting list into tuplee\n",
    "p = [1,2,3,4,5]\n",
    "print('list:',p)\n",
    "q = tuple(p)\n",
    "print('tuple:',q)"
   ]
  },
  {
   "cell_type": "code",
   "execution_count": 97,
   "id": "6711d297",
   "metadata": {},
   "outputs": [
    {
     "name": "stdout",
     "output_type": "stream",
     "text": [
      "tuple [1, 2, 3, 4, 5]\n",
      "list [1, 2, 3, 4, 5]\n"
     ]
    }
   ],
   "source": [
    "#converting tuple into list\n",
    "a = (1,2,3,4,5)\n",
    "print('tuple',p)\n",
    "q = list(p)\n",
    "print('list',q)"
   ]
  },
  {
   "cell_type": "code",
   "execution_count": 98,
   "id": "88400b22",
   "metadata": {},
   "outputs": [
    {
     "name": "stdout",
     "output_type": "stream",
     "text": [
      "['Data', 'science', 'is', 'trending', 'these', 'days']\n"
     ]
    }
   ],
   "source": [
    "#reverse opration on string\n",
    "\n",
    "s = 'Data science is trending these days'  #spliting\n",
    "print(s.split())"
   ]
  },
  {
   "cell_type": "code",
   "execution_count": 99,
   "id": "2447822a",
   "metadata": {},
   "outputs": [
    {
     "name": "stdout",
     "output_type": "stream",
     "text": [
      "['cool', 'is', 'sciene', 'data']\n"
     ]
    }
   ],
   "source": [
    "a = 'data sciene is cool' #reverse\n",
    "print(a.split()[::-1])"
   ]
  },
  {
   "cell_type": "code",
   "execution_count": 101,
   "id": "5673ea24",
   "metadata": {},
   "outputs": [
    {
     "name": "stdout",
     "output_type": "stream",
     "text": [
      "data science is cool\n"
     ]
    }
   ],
   "source": [
    "a = 'data science is cool'\n",
    "print(' '.join(a.split()[::1]))"
   ]
  },
  {
   "cell_type": "code",
   "execution_count": 102,
   "id": "2d3f9e45",
   "metadata": {},
   "outputs": [
    {
     "name": "stdout",
     "output_type": "stream",
     "text": [
      "cool is science data\n"
     ]
    }
   ],
   "source": [
    "a = 'data science is cool'\n",
    "print(' '.join(a.split()[::-1]))"
   ]
  },
  {
   "cell_type": "code",
   "execution_count": 103,
   "id": "06d9c3d9",
   "metadata": {},
   "outputs": [
    {
     "name": "stdout",
     "output_type": "stream",
     "text": [
      "10\n",
      "11\n",
      "10\n"
     ]
    }
   ],
   "source": [
    "#global is a keyword\n",
    "i = 10\n",
    "def p():\n",
    "    print(i)\n",
    "    \n",
    "def incre():\n",
    "    i = 11\n",
    "    print(i)\n",
    "p()\n",
    "incre()\n",
    "p()"
   ]
  },
  {
   "cell_type": "code",
   "execution_count": null,
   "id": "6a02c754",
   "metadata": {},
   "outputs": [],
   "source": []
  }
 ],
 "metadata": {
  "kernelspec": {
   "display_name": "Python 3 (ipykernel)",
   "language": "python",
   "name": "python3"
  },
  "language_info": {
   "codemirror_mode": {
    "name": "ipython",
    "version": 3
   },
   "file_extension": ".py",
   "mimetype": "text/x-python",
   "name": "python",
   "nbconvert_exporter": "python",
   "pygments_lexer": "ipython3",
   "version": "3.9.7"
  }
 },
 "nbformat": 4,
 "nbformat_minor": 5
}
